{
 "cells": [
  {
   "cell_type": "markdown",
   "metadata": {},
   "source": [
    "# Part 1: Exploring the friendship paradox"
   ]
  },
  {
   "cell_type": "markdown",
   "metadata": {},
   "source": [
    "## Setup from part 2 of week 3"
   ]
  },
  {
   "cell_type": "code",
   "execution_count": 23,
   "metadata": {},
   "outputs": [],
   "source": [
    "import networkx as nx\n",
    "import matplotlib.pyplot as plt\n",
    "import random\n",
    "\n",
    "# Create a graph consisting of a single link (edge) between two nodes\n",
    "G = nx.Graph()\n",
    "G.add_edge(0, 1)  # Adding an edge between node 0 and node 1\n"
   ]
  },
  {
   "cell_type": "code",
   "execution_count": 24,
   "metadata": {},
   "outputs": [],
   "source": [
    "total_nodes = 5000\n",
    "\n",
    "# Start with the graph created previously\n",
    "for new_node in range(2, total_nodes):\n",
    "    # Generate a list of all nodes based on their degree (flattened list)\n",
    "    existing_nodes = list(G.nodes())\n",
    "    flattened_list = []\n",
    "    for node in existing_nodes:\n",
    "        flattened_list.extend([node] * G.degree(node))  # Add each node in proportion to its degree\n",
    "\n",
    "    # Select an existing node to connect to, weighted by the flattened list\n",
    "    target_node = random.choice(flattened_list)\n",
    "\n",
    "    # Add the new node and connect it to the selected target node\n",
    "    G.add_edge(new_node, target_node)\n"
   ]
  },
  {
   "cell_type": "code",
   "execution_count": 25,
   "metadata": {},
   "outputs": [
    {
     "name": "stdout",
     "output_type": "stream",
     "text": [
      "143\n",
      "1\n"
     ]
    }
   ],
   "source": [
    "# Calculate the degrees of all nodes in the 5000-node network\n",
    "degrees = dict(G.degree())\n",
    "\n",
    "# Find the maximum and minimum degree\n",
    "max_degree = max(degrees.values())\n",
    "min_degree = min(degrees.values())\n",
    "print(max_degree)\n",
    "print(min_degree)"
   ]
  },
  {
   "cell_type": "markdown",
   "metadata": {},
   "source": [
    "## The friendship paradox in BA networks"
   ]
  },
  {
   "cell_type": "markdown",
   "metadata": {},
   "source": [
    "### Pick a node i at random (e.g. use random.choice). Find its degree"
   ]
  },
  {
   "cell_type": "code",
   "execution_count": 26,
   "metadata": {},
   "outputs": [
    {
     "name": "stdout",
     "output_type": "stream",
     "text": [
      "Randomly selected node: 2522\n",
      "Degree of node 2522: 1\n"
     ]
    }
   ],
   "source": [
    "# Pick a node i at random\n",
    "random_node = random.choice(list(G.nodes()))\n",
    "\n",
    "# Find its degree\n",
    "node_degree = G.degree(random_node)\n",
    "\n",
    "print(f\"Randomly selected node: {random_node}\")\n",
    "print(f\"Degree of node {random_node}: {node_degree}\")"
   ]
  },
  {
   "cell_type": "markdown",
   "metadata": {},
   "source": [
    "- random.choice(list(G.nodes())): the nodes in the network are converted into a list to allow random selection.\n",
    "- G.degree(random_node): returns the degree of the selected node"
   ]
  },
  {
   "cell_type": "markdown",
   "metadata": {},
   "source": [
    "### Find i's neighbors. And calculate their average degree."
   ]
  },
  {
   "cell_type": "code",
   "execution_count": 27,
   "metadata": {},
   "outputs": [],
   "source": [
    "# neighbors of the randomly selected node\n",
    "neighbors = list(G.neighbors(random_node))\n",
    "\n",
    "# Calculate  average degree\n",
    "if neighbors:  # avoid division by zero if node has no neighbors\n",
    "    neighbor_degrees = [G.degree(neighbor) for neighbor in neighbors]\n",
    "    average_neighbor_degree = sum(neighbor_degrees) / len(neighbors)\n",
    "else:\n",
    "    average_neighbor_degree = 0 # No neighbors"
   ]
  },
  {
   "cell_type": "markdown",
   "metadata": {},
   "source": [
    "- Use G.neighbors(node) to get the neighbors of node i\n",
    "- find each neighbors degree using G.degree(neighbor)\n",
    "- find average degree of neighbors"
   ]
  },
  {
   "cell_type": "markdown",
   "metadata": {},
   "source": [
    "### Compare the two numbers to check if it's true that i's friends (on average) have more friends than i"
   ]
  },
  {
   "cell_type": "code",
   "execution_count": 28,
   "metadata": {},
   "outputs": [
    {
     "name": "stdout",
     "output_type": "stream",
     "text": [
      "i's friend has more friends than i do\n"
     ]
    }
   ],
   "source": [
    "if average_neighbor_degree > node_degree:\n",
    "    print(\"i's friend has more friends than i do\")\n",
    "else:\n",
    "    print(\"i have more friends than i's friends\")"
   ]
  },
  {
   "cell_type": "markdown",
   "metadata": {},
   "source": [
    "- Compare the degree of node i with the average degree of its neighbors\n",
    "- Check if the friendship paradox holds by seeing if the average degree of the neighbors is greater than the degree of node i."
   ]
  },
  {
   "cell_type": "markdown",
   "metadata": {},
   "source": [
    "### Do this 1000 times. How many out of those 1000 times is the friendship paradox true in F-BA?"
   ]
  },
  {
   "cell_type": "code",
   "execution_count": 29,
   "metadata": {},
   "outputs": [
    {
     "name": "stdout",
     "output_type": "stream",
     "text": [
      "friendship paradox 856/1000 times\n"
     ]
    }
   ],
   "source": [
    "num_trials = 1000\n",
    "\n",
    "# Counter for friendship paradox holds\n",
    "paradox_count = 0\n",
    "\n",
    "for _ in range(num_trials):\n",
    "    # Pick a node i at random\n",
    "    random_node = random.choice(list(G.nodes()))\n",
    "\n",
    "    # Find its degree\n",
    "    node_degree = G.degree(random_node)\n",
    "\n",
    "    # neighbors of the randomly selected node\n",
    "    neighbors = list(G.neighbors(random_node))\n",
    "\n",
    "    # Calculate  average degree\n",
    "    if neighbors:  # avoid division by zero if node has no neighbors\n",
    "        neighbor_degrees = [G.degree(neighbor) for neighbor in neighbors]\n",
    "        average_neighbor_degree = sum(neighbor_degrees) / len(neighbors)\n",
    "    else:\n",
    "        average_neighbor_degree = 0 # No neighbors\n",
    "\n",
    "    if average_neighbor_degree > node_degree:\n",
    "        paradox_count += 1\n",
    "\n",
    "\n",
    "print(f\"friendship paradox {paradox_count}/{num_trials} times\")"
   ]
  },
  {
   "cell_type": "markdown",
   "metadata": {},
   "source": [
    "- **for _ in range(num_trials):** repeats picking a random node and calculating the degrees until 1000 times.\n",
    "- **paradox_count** tracks how many times the friendship paradox holds\n",
    "- Otherwise the rest of the code is reused from previous exercises above"
   ]
  },
  {
   "cell_type": "markdown",
   "metadata": {},
   "source": [
    "## The friendship paradox more generally"
   ]
  },
  {
   "cell_type": "markdown",
   "metadata": {},
   "source": [
    "### What if the power law is flatter, e.g. $p(k)∼k^-γ$ with $γ=2$? Will the fraction of times the paradox is true be higher or lower?"
   ]
  },
  {
   "cell_type": "markdown",
   "metadata": {},
   "source": [
    "In a network that has a flatter degree distribution, in this case $(𝛾=2)$, there are more high-degree nodes we call hubs, which means that a typical node is more likely to be connected to these hubs, which raises the average degree of its neighbors.\n",
    "Because the high-degree hubs raise the average degree of neighbors, the fraction of times the paradox is true will likely be higher."
   ]
  },
  {
   "cell_type": "markdown",
   "metadata": {},
   "source": [
    "### Now simulate a new network with the slope mentioned above. You can generate networks with power-law degree distributions using the configuation model. The networkx funtion is here nx.configuration_model. I suggest you make the network pretty big ... let's say 5000 nodes or more."
   ]
  },
  {
   "cell_type": "markdown",
   "metadata": {},
   "source": [
    "- Generate a degree sequence following the power-law distribution using the transformation method.\n",
    "- Convert the degree sequence to integers (since degrees need to be whole numbers).\n",
    "- Adjust the degree sequence if necessary to ensure that the sum of degrees is even (a requirement for the configuration model).\n",
    "- Create the configuration model using nx.configuration_model()."
   ]
  },
  {
   "cell_type": "code",
   "execution_count": 30,
   "metadata": {},
   "outputs": [
    {
     "name": "stdout",
     "output_type": "stream",
     "text": [
      "Generated network has 5000 nodes and 15074 edges.\n"
     ]
    }
   ],
   "source": [
    "# parameters for power law distribution\n",
    "n = 5000  \n",
    "gamma = 2  \n",
    "x_min = 1  \n",
    "\n",
    "# create the degree sequence using transformation method\n",
    "def create_degree_sequence(n, gamma, x_min):\n",
    "    degree_sequence = []\n",
    "    for _ in range(n):\n",
    "        r = random.random()  # random number between 0 and 1\n",
    "        degree = x_min * ((1 - r) ** (-1 / (gamma - 1)))  # Transformation method\n",
    "        degree_sequence.append(round(degree))  # Round to int\n",
    "    return degree_sequence\n",
    "\n",
    "# degree sequence\n",
    "degree_sequence = create_degree_sequence(n, gamma, x_min)\n",
    "\n",
    "# check if sum of degree sequence is even\n",
    "if sum(degree_sequence) % 2 != 0:\n",
    "    degree_sequence[0] += 1\n",
    "\n",
    "# configuration model using generated degree sequence\n",
    "config_model_network = nx.configuration_model(degree_sequence)\n",
    "\n",
    "# Convert the graph to an undirected graph - remove parallel edges and self loops\n",
    "config_model_network = nx.Graph(config_model_network)  # Convert to graph\n",
    "config_model_network.remove_edges_from(nx.selfloop_edges(config_model_network))  # Remove self loops\n",
    "\n",
    "print(f\"Generated network has {config_model_network.number_of_nodes()} nodes and {config_model_network.number_of_edges()} edges.\")"
   ]
  },
  {
   "cell_type": "markdown",
   "metadata": {},
   "source": [
    "- The function generate_degree_sequence() generates a degree sequence using the transformation method, where the degree x is drawn from a power-law distribution $p(k)∼k^-γ$ with $γ=2$. r is a random number between 0 and 1, which is transformed into a power-law distributed degree value. The degrees are then rounded to integers as this is needed for the configuration model.\n",
    "- If the sum of the degree sequence is odd we need to change the first degree by adding 1 to make sure that the sum is even because this is needed in order for the configuration model to work.\n",
    "- nx.configuration_model(degree_sequence) is used to generate a random graph with the exact degree sequence.\n",
    "- Sometimes the configuration model generates parallel edges or self loops. This is why the graph is converted into an undirected graph when removing these."
   ]
  },
  {
   "cell_type": "markdown",
   "metadata": {},
   "source": [
    "### Did you reason correctly above? For what fraction of the time is the friendship paradox true for your network with a new slope?"
   ]
  },
  {
   "cell_type": "markdown",
   "metadata": {},
   "source": [
    "To find the answer we can simply use the same code as in the previous test with the Barabási-Albert network:"
   ]
  },
  {
   "cell_type": "code",
   "execution_count": 31,
   "metadata": {},
   "outputs": [
    {
     "name": "stdout",
     "output_type": "stream",
     "text": [
      "friendship paradox 969/1000 times\n"
     ]
    }
   ],
   "source": [
    "num_trials = 1000\n",
    "\n",
    "# Counter for friendship paradox holds\n",
    "paradox_count_new = 0\n",
    "\n",
    "for _ in range(num_trials):\n",
    "    # Pick a node i at random\n",
    "    random_node = random.choice(list(config_model_network.nodes()))\n",
    "\n",
    "    # Find its degree\n",
    "    node_degree = config_model_network.degree(random_node)\n",
    "\n",
    "    # neighbors of the randomly selected node\n",
    "    neighbors = list(config_model_network.neighbors(random_node))\n",
    "\n",
    "    # Calculate  average degree\n",
    "    if neighbors:  # avoid division by zero if node has no neighbors\n",
    "        neighbor_degrees = [config_model_network.degree(neighbor) for neighbor in neighbors]\n",
    "        average_neighbor_degree = sum(neighbor_degrees) / len(neighbors)\n",
    "    else:\n",
    "        average_neighbor_degree = 0 # No neighbors\n",
    "\n",
    "    if average_neighbor_degree > node_degree:\n",
    "        paradox_count_new += 1\n",
    "\n",
    "\n",
    "print(f\"friendship paradox {paradox_count_new}/{num_trials} times\")\n"
   ]
  },
  {
   "cell_type": "markdown",
   "metadata": {},
   "source": [
    "We can see that the configuration network holds the friendship paradox more than the BA network. We can see from these results that the flatter power-law distribution (with $𝛾=2$) leads to a relatively higher proportion of the friendship paradox than the BA network. This is because the flatter distribution results in more hubs which helps making it more likely that a node’s neighbors have more connections than the node itself.\n",
    "When can thereby deduct that the more hubs in a network the more the friendship paradox is likely to hold because these hubs pull the average neighbor degree higher for most nodes."
   ]
  },
  {
   "cell_type": "markdown",
   "metadata": {},
   "source": [
    "## The friendship paradox and the configuration model"
   ]
  },
  {
   "cell_type": "markdown",
   "metadata": {},
   "source": [
    "### Now generate a network for the configuration model that has the same slope and number of nodes as F-BA* in A above; let's call this new network F-CM* (for friendship configuration model)."
   ]
  },
  {
   "cell_type": "markdown",
   "metadata": {},
   "source": [
    "Here we can simply extract the network from the F-BA exercises and use the configuration method used in the previous exercises"
   ]
  },
  {
   "cell_type": "code",
   "execution_count": 33,
   "metadata": {},
   "outputs": [],
   "source": [
    "# Extract the degree sequence from F-BA\n",
    "degree_sequence_f_ba = [G.degree(node) for node in G.nodes()]\n",
    "\n",
    "# check even sum\n",
    "if sum(degree_sequence_f_ba) % 2 != 0:\n",
    "    degree_sequence_f_ba[0] += 1 \n",
    "\n",
    "# Create F-CM* using F-BA\n",
    "f_cm_network = nx.configuration_model(degree_sequence_f_ba)\n",
    "\n",
    "# create graph without parallel edges and self loops\n",
    "f_cm_network = nx.Graph(f_cm_network)\n",
    "f_cm_network.remove_edges_from(nx.selfloop_edges(f_cm_network)) \n"
   ]
  },
  {
   "cell_type": "markdown",
   "metadata": {},
   "source": [
    "### What fraction of the time is the friendship paradox is true for the F-CM network?"
   ]
  },
  {
   "cell_type": "markdown",
   "metadata": {},
   "source": [
    "We can simply re-use the code from earlier again"
   ]
  },
  {
   "cell_type": "code",
   "execution_count": 35,
   "metadata": {},
   "outputs": [
    {
     "name": "stdout",
     "output_type": "stream",
     "text": [
      "friendship paradox 657/1000 times\n",
      "fraction 0.657\n"
     ]
    }
   ],
   "source": [
    "num_trials = 1000\n",
    "\n",
    "# Counter for friendship paradox holds\n",
    "paradox_count_f_cm = 0\n",
    "\n",
    "for _ in range(num_trials):\n",
    "    # Pick a node i at random\n",
    "    random_node = random.choice(list(f_cm_network.nodes()))\n",
    "    \n",
    "    # Find its degree\n",
    "    node_degree = f_cm_network.degree(random_node)\n",
    "    \n",
    "    # neighbors of the randomly selected node\n",
    "    neighbors = list(f_cm_network.neighbors(random_node))\n",
    "    \n",
    "    # Calculate  average degree\n",
    "    if neighbors:  # avoid division by zero if node has no neighbors\n",
    "        neighbor_degrees = [f_cm_network.degree(neighbor) for neighbor in neighbors]\n",
    "        average_neighbor_degree = sum(neighbor_degrees) / len(neighbors)\n",
    "    else:\n",
    "        average_neighbor_degree = 0  # No neighbors\n",
    "    \n",
    "    if average_neighbor_degree > node_degree:\n",
    "        paradox_count_f_cm += 1\n",
    "\n",
    "print(f\"friendship paradox {paradox_count_f_cm}/{num_trials} times\")  \n",
    "# Find the fraction as asked in the question\n",
    "paradox_fraction_f_cm = paradox_count_f_cm / num_trials\n",
    "print(f\"fraction {paradox_fraction_f_cm}\")  "
   ]
  },
  {
   "cell_type": "markdown",
   "metadata": {},
   "source": [
    "### Assuming that F-BA and F-CM have the same degree sequence can now think about if F-BA and F-CM are different with respect to the friendship paradox."
   ]
  },
  {
   "cell_type": "markdown",
   "metadata": {},
   "source": [
    "# MISSING"
   ]
  },
  {
   "cell_type": "markdown",
   "metadata": {},
   "source": [
    "## Growth without preferential attachment"
   ]
  },
  {
   "cell_type": "markdown",
   "metadata": {},
   "source": [
    "### Grow a new network (the Sune-network) with the same parameters as the F-BA network in the exercise above, i.e. 5000 nodes, each new node connects to the existing network, but with one key difference: have the incoming nodes connect to the existing nodes with equal probability. This is the Sune-network."
   ]
  },
  {
   "cell_type": "markdown",
   "metadata": {},
   "source": [
    "We can simply use the code from earlier with some slight changes."
   ]
  },
  {
   "cell_type": "code",
   "execution_count": 41,
   "metadata": {},
   "outputs": [
    {
     "name": "stdout",
     "output_type": "stream",
     "text": [
      "5000 nodes - 4999 edges\n"
     ]
    }
   ],
   "source": [
    "G_sune = nx.Graph()\n",
    "G_sune.add_edge(0, 1)\n",
    "total_nodes = 5000\n",
    "\n",
    "for new_node in range(2, total_nodes):\n",
    "    # list of all existing nodes\n",
    "    existing_nodes = list(G_sune.nodes())\n",
    "\n",
    "    # Choose existing node to connect to with equal probability\n",
    "    target_node = random.choice(existing_nodes)\n",
    "\n",
    "    # Add new node and connect to the selected target node\n",
    "    G_sune.add_edge(new_node, target_node)\n",
    "\n",
    "print(f\"{G_sune.number_of_nodes()} nodes - {G_sune.number_of_edges()} edges\")"
   ]
  },
  {
   "cell_type": "markdown",
   "metadata": {},
   "source": [
    "### Generate an ER network of same number of nodes and links as the Sune-network."
   ]
  },
  {
   "cell_type": "code",
   "execution_count": 42,
   "metadata": {},
   "outputs": [
    {
     "name": "stdout",
     "output_type": "stream",
     "text": [
      "5000 nodes - 4999 edges\n"
     ]
    }
   ],
   "source": [
    "# Same parameters as before\n",
    "num_nodes = G_sune.number_of_nodes()\n",
    "num_edges = G_sune.number_of_edges()\n",
    "\n",
    "# Generate an ER network with 5000 nodes and 4999 edges\n",
    "G_er = nx.gnm_random_graph(num_nodes, num_edges)\n",
    "\n",
    "print(f\"{G_er.number_of_nodes()} nodes - {G_er.number_of_edges()} edges\")"
   ]
  },
  {
   "cell_type": "markdown",
   "metadata": {},
   "source": [
    "### What are the differences between the ER network and the Sune-network?"
   ]
  },
  {
   "cell_type": "markdown",
   "metadata": {},
   "source": [
    "We can start off by plotting the degree distributions against each other"
   ]
  },
  {
   "cell_type": "code",
   "execution_count": 43,
   "metadata": {},
   "outputs": [
    {
     "data": {
      "image/png": "[encoded data removed]",
      "text/plain": [
       "<Figure size 1000x600 with 1 Axes>"
      ]
     },
     "metadata": {},
     "output_type": "display_data"
    }
   ],
   "source": [
    "# Degree sequences\n",
    "sune_degrees = [G_sune.degree(n) for n in G_sune.nodes()]\n",
    "er_degrees = [G_er.degree(n) for n in G_er.nodes()]\n",
    "\n",
    "# Plotting the degree distributions\n",
    "plt.figure(figsize=(10, 6))\n",
    "\n",
    "plt.hist(sune_degrees, bins=50, alpha=0.5, label='Sune-network', color='blue')\n",
    "plt.hist(er_degrees, bins=50, alpha=0.5, label='ER-network', color='red')\n",
    "\n",
    "plt.title(\"Degree Distribution: Sune-network vs ER-network\")\n",
    "plt.xlabel(\"Degree\")\n",
    "plt.ylabel(\"Frequency\")\n",
    "plt.legend(loc='upper right')\n",
    "plt.show()"
   ]
  },
  {
   "cell_type": "markdown",
   "metadata": {},
   "source": [
    "**Sune-Network:**\n",
    "The Sune-network has a high frequency of nodes with degree 1, which makes sense since each new node connects to an existing node chosen randomly with equal probability. Many nodes will therefore have just a single edge after being added to the network. The degree distribution for the Sune-network also shows a long \"tail\" with a number of nodes that have higher degrees than 2. This might be because the nodes got selected several times when new nodes were added which would result in more connections than average. From the plot above one can also see that there is a peak at around degree 1 is a lot higher than in the ER-network. This suggests that there are more nodes in the Sune-network that have very few connections, which ultimately makes sense when thinking about the equal-probability attachment model.\n",
    "\n",
    "**ER-network:**\n",
    "From the plot above we can see that the degree distribution for the ER-network seems to follow a somewhat poisson distribution, where the majority of nodes are between 1 and 3. It should also be noted from the plot that there are a lot of nodes with a degree of 0, which makes them isolated nodes. However, when thinking about this it actually makes sense since the ER network can generate disconnected components. This happens as the edges are placed randomly and can then result in some nodes not getting any edges.\n",
    "\n",
    "To conclude we can say that the plot shows how the different networks are constructed (equal probability attachment in the Sune-network versus random edge placement in the ER-network) and how this can lead to different degree distributions."
   ]
  },
  {
   "cell_type": "markdown",
   "metadata": {},
   "source": [
    "We can now also look at the amount of connected components in the two networks, as this refers to how many different groups of nodes there are in the network where every node in a component can reach every other node. This can be seen below."
   ]
  },
  {
   "cell_type": "code",
   "execution_count": 47,
   "metadata": {},
   "outputs": [
    {
     "name": "stdout",
     "output_type": "stream",
     "text": [
      "Sune-network: 1\n",
      "ER-network: 818\n"
     ]
    }
   ],
   "source": [
    "# connected components in Sune-network\n",
    "sune_components = nx.number_connected_components(G_sune)\n",
    "print(\"Sune-network:\", sune_components)\n",
    "\n",
    "# connected components in ER network\n",
    "er_components = nx.number_connected_components(G_er)\n",
    "print(\"ER-network:\", er_components)\n"
   ]
  },
  {
   "cell_type": "markdown",
   "metadata": {},
   "source": [
    "**Sune-network**:\n",
    "From the above output we can see that the sune-network seems to onyl have 1 connected component. At first this might seem strange when comparing it to the ER-network, however, upon further thought this actually makes sense. This happens as the sune-network grows by connecting the new node to an already existing node randomly. This means that at all times the network will remain connected to every node, and even though the attachment happens randomly there is close to no chance that the nodes will stay isolated throughout or form small clusters.\n",
    "\n",
    "**ER-network**:\n",
    "From the output above we see that the ER-network has 818 connected components. If we think about why this also makes a lot of sense. In the network each edge is placed totally at random between two nodes, which can lead to a lot of nodes that have very little or no connections as we also keep in mind that the network has 5000 nodes and 4999 edges. This may lead to many nodes being connected to eachother or simply in one massive component, but also creating isolated nodes or small groups that are disconnected. In this case with 818 connected components this likely means that there is one big connected component that contains nearly all of the nodes and then some nodes that are either isolated or in small groups."
   ]
  },
  {
   "cell_type": "markdown",
   "metadata": {},
   "source": []
  }
 ],
 "metadata": {
  "kernelspec": {
   "display_name": "02805SG",
   "language": "python",
   "name": "python3"
  },
  "language_info": {
   "codemirror_mode": {
    "name": "ipython",
    "version": 3
   },
   "file_extension": ".py",
   "mimetype": "text/x-python",
   "name": "python",
   "nbconvert_exporter": "python",
   "pygments_lexer": "ipython3",
   "version": "3.11.9"
  }
 },
 "nbformat": 4,
 "nbformat_minor": 2
}
