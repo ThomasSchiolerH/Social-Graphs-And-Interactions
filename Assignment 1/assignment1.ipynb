{
 "cells": [
  {
   "cell_type": "markdown",
   "metadata": {},
   "source": [
    "# Part 1: Exploring the friendship paradox"
   ]
  },
  {
   "cell_type": "markdown",
   "metadata": {},
   "source": [
    "## Setup from part 2 of week 3"
   ]
  },
  {
   "cell_type": "code",
   "execution_count": 23,
   "metadata": {},
   "outputs": [],
   "source": [
    "import networkx as nx\n",
    "import matplotlib.pyplot as plt\n",
    "import random\n",
    "\n",
    "# Create a graph consisting of a single link (edge) between two nodes\n",
    "G = nx.Graph()\n",
    "G.add_edge(0, 1)  # Adding an edge between node 0 and node 1\n"
   ]
  },
  {
   "cell_type": "code",
   "execution_count": 24,
   "metadata": {},
   "outputs": [],
   "source": [
    "total_nodes = 5000\n",
    "\n",
    "# Start with the graph created previously\n",
    "for new_node in range(2, total_nodes):\n",
    "    # Generate a list of all nodes based on their degree (flattened list)\n",
    "    existing_nodes = list(G.nodes())\n",
    "    flattened_list = []\n",
    "    for node in existing_nodes:\n",
    "        flattened_list.extend([node] * G.degree(node))  # Add each node in proportion to its degree\n",
    "\n",
    "    # Select an existing node to connect to, weighted by the flattened list\n",
    "    target_node = random.choice(flattened_list)\n",
    "\n",
    "    # Add the new node and connect it to the selected target node\n",
    "    G.add_edge(new_node, target_node)\n"
   ]
  },
  {
   "cell_type": "code",
   "execution_count": 25,
   "metadata": {},
   "outputs": [
    {
     "name": "stdout",
     "output_type": "stream",
     "text": [
      "143\n",
      "1\n"
     ]
    }
   ],
   "source": [
    "# Calculate the degrees of all nodes in the 5000-node network\n",
    "degrees = dict(G.degree())\n",
    "\n",
    "# Find the maximum and minimum degree\n",
    "max_degree = max(degrees.values())\n",
    "min_degree = min(degrees.values())\n",
    "print(max_degree)\n",
    "print(min_degree)"
   ]
  },
  {
   "cell_type": "markdown",
   "metadata": {},
   "source": [
    "## The friendship paradox in BA networks"
   ]
  },
  {
   "cell_type": "markdown",
   "metadata": {},
   "source": [
    "### Pick a node i at random (e.g. use random.choice). Find its degree"
   ]
  },
  {
   "cell_type": "code",
   "execution_count": 26,
   "metadata": {},
   "outputs": [
    {
     "name": "stdout",
     "output_type": "stream",
     "text": [
      "Randomly selected node: 2522\n",
      "Degree of node 2522: 1\n"
     ]
    }
   ],
   "source": [
    "# Pick a node i at random\n",
    "random_node = random.choice(list(G.nodes()))\n",
    "\n",
    "# Find its degree\n",
    "node_degree = G.degree(random_node)\n",
    "\n",
    "print(f\"Randomly selected node: {random_node}\")\n",
    "print(f\"Degree of node {random_node}: {node_degree}\")"
   ]
  },
  {
   "cell_type": "markdown",
   "metadata": {},
   "source": [
    "- random.choice(list(G.nodes())): the nodes in the network are converted into a list to allow random selection.\n",
    "- G.degree(random_node): returns the degree of the selected node"
   ]
  },
  {
   "cell_type": "markdown",
   "metadata": {},
   "source": [
    "### Find i's neighbors. And calculate their average degree."
   ]
  },
  {
   "cell_type": "code",
   "execution_count": 27,
   "metadata": {},
   "outputs": [],
   "source": [
    "# neighbors of the randomly selected node\n",
    "neighbors = list(G.neighbors(random_node))\n",
    "\n",
    "# Calculate  average degree\n",
    "if neighbors:  # avoid division by zero if node has no neighbors\n",
    "    neighbor_degrees = [G.degree(neighbor) for neighbor in neighbors]\n",
    "    average_neighbor_degree = sum(neighbor_degrees) / len(neighbors)\n",
    "else:\n",
    "    average_neighbor_degree = 0 # No neighbors"
   ]
  },
  {
   "cell_type": "markdown",
   "metadata": {},
   "source": [
    "- Use G.neighbors(node) to get the neighbors of node i\n",
    "- find each neighbors degree using G.degree(neighbor)\n",
    "- find average degree of neighbors"
   ]
  },
  {
   "cell_type": "markdown",
   "metadata": {},
   "source": [
    "### Compare the two numbers to check if it's true that i's friends (on average) have more friends than i"
   ]
  },
  {
   "cell_type": "code",
   "execution_count": 28,
   "metadata": {},
   "outputs": [
    {
     "name": "stdout",
     "output_type": "stream",
     "text": [
      "i's friend has more friends than i do\n"
     ]
    }
   ],
   "source": [
    "if average_neighbor_degree > node_degree:\n",
    "    print(\"i's friend has more friends than i do\")\n",
    "else:\n",
    "    print(\"i have more friends than i's friends\")"
   ]
  },
  {
   "cell_type": "markdown",
   "metadata": {},
   "source": [
    "- Compare the degree of node i with the average degree of its neighbors\n",
    "- Check if the friendship paradox holds by seeing if the average degree of the neighbors is greater than the degree of node i."
   ]
  },
  {
   "cell_type": "markdown",
   "metadata": {},
   "source": [
    "### Do this 1000 times. How many out of those 1000 times is the friendship paradox true in F-BA?"
   ]
  },
  {
   "cell_type": "code",
   "execution_count": 29,
   "metadata": {},
   "outputs": [
    {
     "name": "stdout",
     "output_type": "stream",
     "text": [
      "friendship paradox 856/1000 times\n"
     ]
    }
   ],
   "source": [
    "num_trials = 1000\n",
    "\n",
    "# Counter for friendship paradox holds\n",
    "paradox_count = 0\n",
    "\n",
    "for _ in range(num_trials):\n",
    "    # Pick a node i at random\n",
    "    random_node = random.choice(list(G.nodes()))\n",
    "\n",
    "    # Find its degree\n",
    "    node_degree = G.degree(random_node)\n",
    "\n",
    "    # neighbors of the randomly selected node\n",
    "    neighbors = list(G.neighbors(random_node))\n",
    "\n",
    "    # Calculate  average degree\n",
    "    if neighbors:  # avoid division by zero if node has no neighbors\n",
    "        neighbor_degrees = [G.degree(neighbor) for neighbor in neighbors]\n",
    "        average_neighbor_degree = sum(neighbor_degrees) / len(neighbors)\n",
    "    else:\n",
    "        average_neighbor_degree = 0 # No neighbors\n",
    "\n",
    "    if average_neighbor_degree > node_degree:\n",
    "        paradox_count += 1\n",
    "\n",
    "\n",
    "print(f\"friendship paradox {paradox_count}/{num_trials} times\")"
   ]
  },
  {
   "cell_type": "markdown",
   "metadata": {},
   "source": [
    "- **for _ in range(num_trials):** repeats picking a random node and calculating the degrees until 1000 times.\n",
    "- **paradox_count** tracks how many times the friendship paradox holds\n",
    "- Otherwise the rest of the code is reused from previous exercises above"
   ]
  },
  {
   "cell_type": "markdown",
   "metadata": {},
   "source": [
    "## The friendship paradox more generally"
   ]
  },
  {
   "cell_type": "markdown",
   "metadata": {},
   "source": [
    "### What if the power law is flatter, e.g. $p(k)∼k^-γ$ with $γ=2$? Will the fraction of times the paradox is true be higher or lower?"
   ]
  },
  {
   "cell_type": "markdown",
   "metadata": {},
   "source": [
    "In a network that has a flatter degree distribution, in this case $(𝛾=2)$, there are more high-degree nodes we call hubs, which means that a typical node is more likely to be connected to these hubs, which raises the average degree of its neighbors.\n",
    "Because the high-degree hubs raise the average degree of neighbors, the fraction of times the paradox is true will likely be higher."
   ]
  },
  {
   "cell_type": "markdown",
   "metadata": {},
   "source": [
    "### Now simulate a new network with the slope mentioned above. You can generate networks with power-law degree distributions using the configuation model. The networkx funtion is here nx.configuration_model. I suggest you make the network pretty big ... let's say 5000 nodes or more."
   ]
  },
  {
   "cell_type": "markdown",
   "metadata": {},
   "source": [
    "- Generate a degree sequence following the power-law distribution using the transformation method.\n",
    "- Convert the degree sequence to integers (since degrees need to be whole numbers).\n",
    "- Adjust the degree sequence if necessary to ensure that the sum of degrees is even (a requirement for the configuration model).\n",
    "- Create the configuration model using nx.configuration_model()."
   ]
  },
  {
   "cell_type": "code",
   "execution_count": 30,
   "metadata": {},
   "outputs": [
    {
     "name": "stdout",
     "output_type": "stream",
     "text": [
      "Generated network has 5000 nodes and 15074 edges.\n"
     ]
    }
   ],
   "source": [
    "# parameters for power law distribution\n",
    "n = 5000  \n",
    "gamma = 2  \n",
    "x_min = 1  \n",
    "\n",
    "# create the degree sequence using transformation method\n",
    "def create_degree_sequence(n, gamma, x_min):\n",
    "    degree_sequence = []\n",
    "    for _ in range(n):\n",
    "        r = random.random()  # random number between 0 and 1\n",
    "        degree = x_min * ((1 - r) ** (-1 / (gamma - 1)))  # Transformation method\n",
    "        degree_sequence.append(round(degree))  # Round to int\n",
    "    return degree_sequence\n",
    "\n",
    "# degree sequence\n",
    "degree_sequence = create_degree_sequence(n, gamma, x_min)\n",
    "\n",
    "# check if sum of degree sequence is even\n",
    "if sum(degree_sequence) % 2 != 0:\n",
    "    degree_sequence[0] += 1\n",
    "\n",
    "# configuration model using generated degree sequence\n",
    "config_model_network = nx.configuration_model(degree_sequence)\n",
    "\n",
    "# Convert the graph to an undirected graph - remove parallel edges and self loops\n",
    "config_model_network = nx.Graph(config_model_network)  # Convert to graph\n",
    "config_model_network.remove_edges_from(nx.selfloop_edges(config_model_network))  # Remove self loops\n",
    "\n",
    "print(f\"Generated network has {config_model_network.number_of_nodes()} nodes and {config_model_network.number_of_edges()} edges.\")"
   ]
  },
  {
   "cell_type": "markdown",
   "metadata": {},
   "source": [
    "- The function generate_degree_sequence() generates a degree sequence using the transformation method, where the degree x is drawn from a power-law distribution $p(k)∼k^-γ$ with $γ=2$. r is a random number between 0 and 1, which is transformed into a power-law distributed degree value. The degrees are then rounded to integers as this is needed for the configuration model.\n",
    "- If the sum of the degree sequence is odd we need to change the first degree by adding 1 to make sure that the sum is even because this is needed in order for the configuration model to work.\n",
    "- nx.configuration_model(degree_sequence) is used to generate a random graph with the exact degree sequence.\n",
    "- Sometimes the configuration model generates parallel edges or self loops. This is why the graph is converted into an undirected graph when removing these."
   ]
  },
  {
   "cell_type": "markdown",
   "metadata": {},
   "source": [
    "### Did you reason correctly above? For what fraction of the time is the friendship paradox true for your network with a new slope?"
   ]
  },
  {
   "cell_type": "markdown",
   "metadata": {},
   "source": [
    "To find the answer we can simply use the same code as in the previous test with the Barabási-Albert network:"
   ]
  },
  {
   "cell_type": "code",
   "execution_count": 31,
   "metadata": {},
   "outputs": [
    {
     "name": "stdout",
     "output_type": "stream",
     "text": [
      "friendship paradox 969/1000 times\n"
     ]
    }
   ],
   "source": [
    "num_trials = 1000\n",
    "\n",
    "# Counter for friendship paradox holds\n",
    "paradox_count_new = 0\n",
    "\n",
    "for _ in range(num_trials):\n",
    "    # Pick a node i at random\n",
    "    random_node = random.choice(list(config_model_network.nodes()))\n",
    "\n",
    "    # Find its degree\n",
    "    node_degree = config_model_network.degree(random_node)\n",
    "\n",
    "    # neighbors of the randomly selected node\n",
    "    neighbors = list(config_model_network.neighbors(random_node))\n",
    "\n",
    "    # Calculate  average degree\n",
    "    if neighbors:  # avoid division by zero if node has no neighbors\n",
    "        neighbor_degrees = [config_model_network.degree(neighbor) for neighbor in neighbors]\n",
    "        average_neighbor_degree = sum(neighbor_degrees) / len(neighbors)\n",
    "    else:\n",
    "        average_neighbor_degree = 0 # No neighbors\n",
    "\n",
    "    if average_neighbor_degree > node_degree:\n",
    "        paradox_count_new += 1\n",
    "\n",
    "\n",
    "print(f\"friendship paradox {paradox_count_new}/{num_trials} times\")\n"
   ]
  },
  {
   "cell_type": "markdown",
   "metadata": {},
   "source": [
    "We can see that the configuration network holds the friendship paradox more than the BA network. We can see from these results that the flatter power-law distribution (with $𝛾=2$) leads to a relatively higher proportion of the friendship paradox than the BA network. This is because the flatter distribution results in more hubs which helps making it more likely that a node’s neighbors have more connections than the node itself.\n",
    "When can thereby deduct that the more hubs in a network the more the friendship paradox is likely to hold because these hubs pull the average neighbor degree higher for most nodes."
   ]
  },
  {
   "cell_type": "markdown",
   "metadata": {},
   "source": [
    "## The friendship paradox and the configuration model"
   ]
  },
  {
   "cell_type": "markdown",
   "metadata": {},
   "source": [
    "### Now generate a network for the configuration model that has the same slope and number of nodes as F-BA* in A above; let's call this new network F-CM* (for friendship configuration model)."
   ]
  },
  {
   "cell_type": "markdown",
   "metadata": {},
   "source": [
    "Here we can simply extract the network from the F-BA exercises and use the configuration method used in the previous exercises"
   ]
  },
  {
   "cell_type": "code",
   "execution_count": 33,
   "metadata": {},
   "outputs": [],
   "source": [
    "# Extract the degree sequence from F-BA\n",
    "degree_sequence_f_ba = [G.degree(node) for node in G.nodes()]\n",
    "\n",
    "# check even sum\n",
    "if sum(degree_sequence_f_ba) % 2 != 0:\n",
    "    degree_sequence_f_ba[0] += 1 \n",
    "\n",
    "# Create F-CM* using F-BA\n",
    "f_cm_network = nx.configuration_model(degree_sequence_f_ba)\n",
    "\n",
    "# create graph without parallel edges and self loops\n",
    "f_cm_network = nx.Graph(f_cm_network)\n",
    "f_cm_network.remove_edges_from(nx.selfloop_edges(f_cm_network)) \n"
   ]
  },
  {
   "cell_type": "markdown",
   "metadata": {},
   "source": [
    "### What fraction of the time is the friendship paradox is true for the F-CM network?"
   ]
  },
  {
   "cell_type": "markdown",
   "metadata": {},
   "source": [
    "We can simply re-use the code from earlier again"
   ]
  },
  {
   "cell_type": "code",
   "execution_count": 35,
   "metadata": {},
   "outputs": [
    {
     "name": "stdout",
     "output_type": "stream",
     "text": [
      "friendship paradox 657/1000 times\n",
      "fraction 0.657\n"
     ]
    }
   ],
   "source": [
    "num_trials = 1000\n",
    "\n",
    "# Counter for friendship paradox holds\n",
    "paradox_count_f_cm = 0\n",
    "\n",
    "for _ in range(num_trials):\n",
    "    # Pick a node i at random\n",
    "    random_node = random.choice(list(f_cm_network.nodes()))\n",
    "    \n",
    "    # Find its degree\n",
    "    node_degree = f_cm_network.degree(random_node)\n",
    "    \n",
    "    # neighbors of the randomly selected node\n",
    "    neighbors = list(f_cm_network.neighbors(random_node))\n",
    "    \n",
    "    # Calculate  average degree\n",
    "    if neighbors:  # avoid division by zero if node has no neighbors\n",
    "        neighbor_degrees = [f_cm_network.degree(neighbor) for neighbor in neighbors]\n",
    "        average_neighbor_degree = sum(neighbor_degrees) / len(neighbors)\n",
    "    else:\n",
    "        average_neighbor_degree = 0  # No neighbors\n",
    "    \n",
    "    if average_neighbor_degree > node_degree:\n",
    "        paradox_count_f_cm += 1\n",
    "\n",
    "print(f\"friendship paradox {paradox_count_f_cm}/{num_trials} times\")  \n",
    "# Find the fraction as asked in the question\n",
    "paradox_fraction_f_cm = paradox_count_f_cm / num_trials\n",
    "print(f\"fraction {paradox_fraction_f_cm}\")  "
   ]
  },
  {
   "cell_type": "markdown",
   "metadata": {},
   "source": [
    "### Assuming that F-BA and F-CM have the same degree sequence can now think about if F-BA and F-CM are different with respect to the friendship paradox.\n",
    "\n",
    "Subquestion 1: Are there factors beyond the degree-distribution that could impact how frequently the friendship paradox is true? I might consider how network properties like assortativity, clustering, community-structure, etc potentially could impact things (it's OK to search online and add references to your answer).\n",
    "\n",
    "Subquestion 2: How would you test more rigorously if the friendship-paradox is actually true equally often in F-BA and F-CM? (E.g. how would you run a statistical test to investigate ... or how would you put error-bars on your plots?)"
   ]
  },
  {
   "cell_type": "markdown",
   "metadata": {},
   "source": [
    "The friendship paradox is influenced by more than just the degree distribution of a network. Assortativity refers to the tendency of nodes to connect to other nodes with similar degrees. In a network with high assortativity, nodes with a high degree (many connections) tend to connect to other high-degree nodes, which could reduce the frequency of the friendship paradox being true since both the node and its neighbors have similarly high degrees. \n",
    "\n",
    "Clustering measures the chance of the neighbors of some node to also be connected, which might reduce the paradox frequency being true of the friendship paradox since tightly clustered groups of nodes could have similar degrees. \n",
    "\n",
    "In community-structured networks, where nodes are divided into tightly-knit subgroups, the paradox may appear less frequently within highly homogeneous communities compared to more diverse ones. The F-BA network have lower assortativity and more hierarchical structure, while the F-CM network are more randomized, potentially leading to fewer structural patterns like clustering or community structure, which might explain the lower paradox frequency in F-CM.\n",
    "\n",
    "To test more rigorously if the friendship paradox holds equally often in F-BA and F-CM, a statistical hypothesis test like a two-sample proportion test could be used to compare the observed frequencies of the paradox in both networks. Given that in 1000 trials, F-BA shows the paradox 856 times and F-CM shows it 657 times, we can test whether this difference is statistically significant by calculating confidence intervals. And then off course a larger number of trials would reduce random fluctuations and give a clearer picture of whether these differences are truly due to network structure or random variation."
   ]
  },
  {
   "cell_type": "markdown",
   "metadata": {},
   "source": [
    "## Growth without preferential attachment"
   ]
  },
  {
   "cell_type": "markdown",
   "metadata": {},
   "source": [
    "### Grow a new network (the Sune-network) with the same parameters as the F-BA network in the exercise above, i.e. 5000 nodes, each new node connects to the existing network, but with one key difference: have the incoming nodes connect to the existing nodes with equal probability. This is the Sune-network."
   ]
  },
  {
   "cell_type": "markdown",
   "metadata": {},
   "source": [
    "We can simply use the code from earlier with some slight changes."
   ]
  },
  {
   "cell_type": "code",
   "execution_count": 41,
   "metadata": {},
   "outputs": [
    {
     "name": "stdout",
     "output_type": "stream",
     "text": [
      "5000 nodes - 4999 edges\n"
     ]
    }
   ],
   "source": [
    "G_sune = nx.Graph()\n",
    "G_sune.add_edge(0, 1)\n",
    "total_nodes = 5000\n",
    "\n",
    "for new_node in range(2, total_nodes):\n",
    "    # list of all existing nodes\n",
    "    existing_nodes = list(G_sune.nodes())\n",
    "\n",
    "    # Choose existing node to connect to with equal probability\n",
    "    target_node = random.choice(existing_nodes)\n",
    "\n",
    "    # Add new node and connect to the selected target node\n",
    "    G_sune.add_edge(new_node, target_node)\n",
    "\n",
    "print(f\"{G_sune.number_of_nodes()} nodes - {G_sune.number_of_edges()} edges\")"
   ]
  },
  {
   "cell_type": "markdown",
   "metadata": {},
   "source": [
    "### Generate an ER network of same number of nodes and links as the Sune-network."
   ]
  },
  {
   "cell_type": "code",
   "execution_count": 42,
   "metadata": {},
   "outputs": [
    {
     "name": "stdout",
     "output_type": "stream",
     "text": [
      "5000 nodes - 4999 edges\n"
     ]
    }
   ],
   "source": [
    "# Same parameters as before\n",
    "num_nodes = G_sune.number_of_nodes()\n",
    "num_edges = G_sune.number_of_edges()\n",
    "\n",
    "# Generate an ER network with 5000 nodes and 4999 edges\n",
    "G_er = nx.gnm_random_graph(num_nodes, num_edges)\n",
    "\n",
    "print(f\"{G_er.number_of_nodes()} nodes - {G_er.number_of_edges()} edges\")"
   ]
  },
  {
   "cell_type": "markdown",
   "metadata": {},
   "source": [
    "### What are the differences between the ER network and the Sune-network?"
   ]
  },
  {
   "cell_type": "markdown",
   "metadata": {},
   "source": [
    "We can start off by plotting the degree distributions against each other"
   ]
  },
  {
   "cell_type": "code",
   "execution_count": 43,
   "metadata": {},
   "outputs": [
    {
     "data": {
      "image/png": "[encoded data removed]",
      "text/plain": [
       "<Figure size 1000x600 with 1 Axes>"
      ]
     },
     "metadata": {},
     "output_type": "display_data"
    }
   ],
   "source": [
    "# Degree sequences\n",
    "sune_degrees = [G_sune.degree(n) for n in G_sune.nodes()]\n",
    "er_degrees = [G_er.degree(n) for n in G_er.nodes()]\n",
    "\n",
    "# Plotting the degree distributions\n",
    "plt.figure(figsize=(10, 6))\n",
    "\n",
    "plt.hist(sune_degrees, bins=50, alpha=0.5, label='Sune-network', color='blue')\n",
    "plt.hist(er_degrees, bins=50, alpha=0.5, label='ER-network', color='red')\n",
    "\n",
    "plt.title(\"Degree Distribution: Sune-network vs ER-network\")\n",
    "plt.xlabel(\"Degree\")\n",
    "plt.ylabel(\"Frequency\")\n",
    "plt.legend(loc='upper right')\n",
    "plt.show()"
   ]
  },
  {
   "cell_type": "markdown",
   "metadata": {},
   "source": [
    "**Sune-Network:**\n",
    "The Sune-network has a high frequency of nodes with degree 1, which makes sense since each new node connects to an existing node chosen randomly with equal probability. Many nodes will therefore have just a single edge after being added to the network. The degree distribution for the Sune-network also shows a long \"tail\" with a number of nodes that have higher degrees than 2. This might be because the nodes got selected several times when new nodes were added which would result in more connections than average. From the plot above one can also see that there is a peak at around degree 1 is a lot higher than in the ER-network. This suggests that there are more nodes in the Sune-network that have very few connections, which ultimately makes sense when thinking about the equal-probability attachment model.\n",
    "\n",
    "**ER-network:**\n",
    "From the plot above we can see that the degree distribution for the ER-network seems to follow a somewhat poisson distribution, where the majority of nodes are between 1 and 3. It should also be noted from the plot that there are a lot of nodes with a degree of 0, which makes them isolated nodes. However, when thinking about this it actually makes sense since the ER network can generate disconnected components. This happens as the edges are placed randomly and can then result in some nodes not getting any edges.\n",
    "\n",
    "To conclude we can say that the plot shows how the different networks are constructed (equal probability attachment in the Sune-network versus random edge placement in the ER-network) and how this can lead to different degree distributions."
   ]
  },
  {
   "cell_type": "markdown",
   "metadata": {},
   "source": [
    "We can now also look at the amount of connected components in the two networks, as this refers to how many different groups of nodes there are in the network where every node in a component can reach every other node. This can be seen below."
   ]
  },
  {
   "cell_type": "code",
   "execution_count": 47,
   "metadata": {},
   "outputs": [
    {
     "name": "stdout",
     "output_type": "stream",
     "text": [
      "Sune-network: 1\n",
      "ER-network: 818\n"
     ]
    }
   ],
   "source": [
    "# connected components in Sune-network\n",
    "sune_components = nx.number_connected_components(G_sune)\n",
    "print(\"Sune-network:\", sune_components)\n",
    "\n",
    "# connected components in ER network\n",
    "er_components = nx.number_connected_components(G_er)\n",
    "print(\"ER-network:\", er_components)\n"
   ]
  },
  {
   "cell_type": "markdown",
   "metadata": {},
   "source": [
    "**Sune-network**:\n",
    "From the above output we can see that the sune-network seems to onyl have 1 connected component. At first this might seem strange when comparing it to the ER-network, however, upon further thought this actually makes sense. This happens as the sune-network grows by connecting the new node to an already existing node randomly. This means that at all times the network will remain connected to every node, and even though the attachment happens randomly there is close to no chance that the nodes will stay isolated throughout or form small clusters.\n",
    "\n",
    "**ER-network**:\n",
    "From the output above we see that the ER-network has 818 connected components. If we think about why this also makes a lot of sense. In the network each edge is placed totally at random between two nodes, which can lead to a lot of nodes that have very little or no connections as we also keep in mind that the network has 5000 nodes and 4999 edges. This may lead to many nodes being connected to eachother or simply in one massive component, but also creating isolated nodes or small groups that are disconnected. In this case with 818 connected components this likely means that there is one big connected component that contains nearly all of the nodes and then some nodes that are either isolated or in small groups."
   ]
  },
  {
   "cell_type": "markdown",
   "metadata": {},
   "source": [
    "# Part 2: Stats of the Country Music Network\n",
    "\n",
    "This second part requires you to have built the network of Country Musicians as described in the exercises for Week 4. You should complete the following exercise from **Part 2**.\n",
    "\n",
    "* *Simple network statistics and analysis*\n",
    "\n",
    "And the following exercise from **Part 3**\n",
    "\n",
    "* *Let's build a simple visualization of the network*\n",
    "\n",
    "And that's it! You're all set."
   ]
  },
  {
   "cell_type": "markdown",
   "metadata": {},
   "source": [
    "# Simple Network Statistics and Analysis\n",
    "\n",
    "### Question 1: What is the number of nodes in the network?\n",
    "- **Answer**: \n",
    "  - Number of nodes after removing isolated nodes: **1949**\n",
    "---\n",
    "\n",
    "### Question 2: What is the number of links?\n",
    "- **Answer**: \n",
    "  - Number of links: **17638**\n",
    "\n",
    "---\n"
   ]
  },
  {
   "attachments": {
    "image-2.png": {
     "image/png": "[encoded data removed]"
    },
    "image.png": {
     "image/png": "[encoded data removed]"
    }
   },
   "cell_type": "markdown",
   "metadata": {},
   "source": [
    "### Question 3: Plot the In-Degree and Out-Degree Distributions for the Entire Network\n",
    "\n",
    "#### Answer:\n",
    "- **In-Degree Distribution**:\n",
    "  - In the in-degree distribution, most performers have very few incoming links, but a small number of highly popular performers have many. This reflects the fame or influence of certain artists, as they are referenced more frequently in various articles.\n",
    "  \n",
    "- **Out-Degree Distribution**:\n",
    "  - The out-degree distribution is more spread out, with most performers linking to only a few others. However, a small number of pages link to many performers, possibly due to Wikipedia editors referencing multiple artists on some pages (e.g., collaborations or genre-specific lists).\n",
    "\n",
    "- **Observation**:\n",
    "  - The in-degree distribution is different from the out-degree distribution because certain performers are widely referenced across the network, while most pages focus on individual performers with fewer outbound links. This creates a natural imbalance, with the in-degree distribution being more concentrated on a few artists, while the out-degree distribution is more evenly spread.\n",
    "\n",
    "![image.png](attachment:image.png)\n",
    "\n",
    "---\n",
    "\n",
    "#### Additional Comparisons:\n",
    "\n",
    "1. **Compare the Out-Degree Distribution to a Random Network**:\n",
    "   - We compared the out-degree distribution of the original network to that of a random network with the same number of nodes and links. The original network displayed a more skewed distribution, with a few high out-degree nodes, indicating a more structured network with potential hubs. In contrast, the random network showed a more uniform out-degree distribution, reflecting a lack of hubs or strongly connected nodes.\n",
    "\n",
    "2. **Compare the In-Degree Distribution to a Scale-Free Network**:\n",
    "   - For the in-degree comparison, the original network exhibited some scale-free characteristics, with many low in-degree nodes and a few high in-degree nodes. However, the distribution was not as extreme as a pure scale-free network, where a small number of nodes would have a very high degree. This suggests the original network has a semi-scale-free structure, though with less concentration of hubs compared to a typical scale-free network.\n",
    "\n",
    "![image-2.png](attachment:image-2.png)\n",
    "\n",
    "---"
   ]
  },
  {
   "cell_type": "markdown",
   "metadata": {},
   "source": [
    "### Question 4: Who are the top 5 most connected performers?\n",
    "*Report results for in-degrees and out-degrees (i.e., who has the highest in-degree, and who has the highest out-degree)? Comment on your findings. Is this what you would have expected?*\n",
    "\n",
    "#### Top 5 Performers by In-Degree (Most Referenced):\n",
    "\n",
    "1. **Willie Nelson**: 202 links\n",
    "2. **Johnny Cash**: 184 links\n",
    "3. **Elvis Presley**: 177 links\n",
    "4. **Dolly Parton**: 162 links\n",
    "5. **George Jones**: 156 links\n",
    "\n",
    "#### Top 5 Performers by Out-Degree (Most Linking to Others):\n",
    "\n",
    "1. **Hillary Lindsey**: 100 links\n",
    "2. **Pam Tillis**: 82 links\n",
    "3. **Randy Travis**: 75 links\n",
    "4. **Vince Gill**: 71 links\n",
    "5. **Dwight Yoakam**: 67 links\n",
    "\n",
    "### Comment on Findings:\n",
    "The top performers by in-degree are legendary artists, which aligns with expectations, as these icons are widely referenced and influential in the country music genre. On the other hand, the out-degree rankings highlight songwriters and contemporary artists such as Hillary Lindsey and Pam Tillis, who are highly connected by contributing or collaborating with others. This suggests that the most referenced performers are not necessarily the most actively linking, revealing a difference between established legends and those more actively contributing to new work.\n",
    "\n",
    "---"
   ]
  },
  {
   "cell_type": "markdown",
   "metadata": {},
   "source": [
    "### Question 5: What are the 10 pages with the longest wiki entries?\n",
    "*Use the length of the content attribute to figure this out.*\n",
    "\n",
    "#### Top 10 Performers with the Longest Wiki Entries:\n",
    "\n",
    "1. **Beyoncé**: 62,859 words\n",
    "2. **Taylor Swift**: 56,352 words\n",
    "3. **Miley Cyrus**: 51,262 words\n",
    "4. **Justin Bieber**: 50,694 words\n",
    "5. **Carrie Underwood**: 45,245 words\n",
    "6. **Justin Timberlake**: 44,775 words\n",
    "7. **Demi Lovato**: 44,189 words\n",
    "8. **Bob Dylan**: 41,087 words\n",
    "9. **Ed Sheeran**: 36,322 words\n",
    "10. **Elvis Presley**: 33,740 words\n",
    "\n",
    "---\n"
   ]
  },
  {
   "cell_type": "markdown",
   "metadata": {},
   "source": [
    "Part 3: Visualizing the networks\n",
    "\n",
    "Question 1: For the sake of the visualisation, let's convert our network to undirected graph (tip: There is a NetworkX command to help you)."
   ]
  },
  {
   "cell_type": "code",
   "execution_count": null,
   "metadata": {},
   "outputs": [],
   "source": [
    "import networkx as nx\n",
    "import matplotlib.pyplot as plt\n",
    "\n",
    "# Create an empty undirected graph\n",
    "G_undirected_manual = nx.Graph()\n",
    "\n",
    "# Add nodes from G_largest (the largest component of the original directed graph)\n",
    "G_undirected_manual.add_nodes_from(G_largest.nodes())\n",
    "\n",
    "# Add undirected edges by iterating over edges in G_largest\n",
    "for u, v in G_largest.edges():\n",
    "    if not G_undirected_manual.has_edge(u, v) and not G_undirected_manual.has_edge(v, u):\n",
    "        G_undirected_manual.add_edge(u, v)\n",
    "\n",
    "# Visualize the manually created undirected graph\n",
    "plt.figure(figsize=(12, 12))  # Adjust the figure size if necessary\n",
    "nx.draw(G_undirected_manual, with_labels=True, node_size=50, font_size=8)\n",
    "\n",
    "# Show the plot\n",
    "plt.show()"
   ]
  },
  {
   "cell_type": "markdown",
   "metadata": {},
   "source": [
    "Part 3: Visualizing the networks\n",
    "\n",
    "Question 2: Use the NetworkX command nx.draw_kamada_kawai to draw the resulting undirected network. (You can find background on the algorithm here.)\n",
    "\n",
    "Set up your plot so that node-size depends on the node degree. Make the node color depend on the length of content attribute. I recommend choosing a color scheme that is quite simple (e.g. the Sequential ones here: https://matplotlib.org/stable/users/explain/colors/colormaps.html)"
   ]
  },
  {
   "cell_type": "code",
   "execution_count": null,
   "metadata": {},
   "outputs": [],
   "source": [
    "import networkx as nx\n",
    "import matplotlib.pyplot as plt\n",
    "import numpy as np\n",
    "\n",
    "# Create an empty undirected graph\n",
    "G_undirected_manual = nx.Graph()\n",
    "\n",
    "# Add nodes from G_largest along with their attributes\n",
    "for node, data in G_largest.nodes(data=True):\n",
    "    G_undirected_manual.add_node(node, **data)\n",
    "\n",
    "# Add undirected edges by iterating over edges in G_largest\n",
    "for u, v in G_largest.edges():\n",
    "    if not G_undirected_manual.has_edge(u, v) and not G_undirected_manual.has_edge(v, u):\n",
    "        G_undirected_manual.add_edge(u, v)\n",
    "\n",
    "# Set up node sizes based on degree (scale up by multiplying by a constant, e.g., 10)\n",
    "node_sizes = [G_undirected_manual.degree(n) * 10 for n in G_undirected_manual.nodes()]\n",
    "\n",
    "# Set up node colors based on the 'content_length' attribute and normalize\n",
    "# Use a default value if 'content_length' is missing\n",
    "node_colors = [G_undirected_manual.nodes[n].get('content_length', 0) for n in G_undirected_manual.nodes()]\n",
    "node_colors_normalized = (node_colors - np.min(node_colors)) / (np.max(node_colors) - np.min(node_colors))  # Normalize\n",
    "\n",
    "# Plot the graph with Kamada-Kawai layout, customized node sizes and colors\n",
    "plt.figure(figsize=(12, 12))\n",
    "nx.draw_kamada_kawai(\n",
    "    G_undirected_manual,\n",
    "    with_labels=True,\n",
    "    node_size=node_sizes,   \n",
    "    node_color=node_colors_normalized,  \n",
    "    cmap=plt.cm.Blues,         \n",
    "    font_size=8\n",
    ")\n",
    "\n",
    "# Show the plot\n",
    "plt.show()"
   ]
  }
 ],
 "metadata": {
  "kernelspec": {
   "display_name": "02805SG",
   "language": "python",
   "name": "python3"
  },
  "language_info": {
   "codemirror_mode": {
    "name": "ipython",
    "version": 3
   },
   "file_extension": ".py",
   "mimetype": "text/x-python",
   "name": "python",
   "nbconvert_exporter": "python",
   "pygments_lexer": "ipython3",
   "version": "3.11.5"
  }
 },
 "nbformat": 4,
 "nbformat_minor": 2
}
