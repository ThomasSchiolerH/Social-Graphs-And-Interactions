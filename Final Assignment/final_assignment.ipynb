{
 "cells": [
  {
   "cell_type": "markdown",
   "metadata": {},
   "source": [
    "Scripts"
   ]
  },
  {
   "cell_type": "code",
   "execution_count": 6,
   "metadata": {},
   "outputs": [],
   "source": [
    "from newsapi import NewsApiClient\n",
    "import datetime\n",
    "import time\n",
    "import pandas as pd\n",
    "import os\n",
    "from newspaper import Article\n",
    "import sys"
   ]
  },
  {
   "cell_type": "code",
   "execution_count": null,
   "metadata": {},
   "outputs": [],
   "source": [
    "# Initialize NewsAPI Client\n",
    "api_key = \"\"  # Replace with API key\n",
    "newsapi = NewsApiClient(api_key=api_key)\n",
    "\n",
    "# Input and output file paths\n",
    "input_file = \"news_articles_election_candidates_expanded.csv\"\n",
    "full_content_file = \"news_articles_election_candidates_full_content.csv\"\n",
    "\n",
    "# Function to fetch full article content using newspaper3k\n",
    "def fetch_full_content(article_url):\n",
    "    try:\n",
    "        article = Article(article_url)\n",
    "        article.download()\n",
    "        article.parse()\n",
    "        return article.text  # Return the full article text\n",
    "    except Exception as e:\n",
    "        return None  # Return None if there is an error\n",
    "\n",
    "# Set new date range\n",
    "start_date = datetime.date(2024, 10, 12)  # Continue from where the previous script left off\n",
    "end_date = datetime.date(2024, 8, 1)  # Adjust end date as needed for backward collection\n",
    "\n",
    "# Prepare to store results\n",
    "articles_data = []\n",
    "\n",
    "# Expanded search queries\n",
    "queries = [\n",
    "    \"2024 Presidential election\",\n",
    "    \"US election AND (Donald Trump OR Kamala Harris)\",\n",
    "    \"Biden administration AND 2024 election\",\n",
    "    \"(Donald Trump OR Trump) AND 2024 election\",\n",
    "    \"(Kamala Harris OR Harris) AND 2024 election\",\n",
    "    \"Campaign financing AND 2024 election\",\n",
    "    \"Voter turnout AND 2024 election\",\n",
    "    \"Presidential debate AND 2024 election\",\n",
    "    \"(Donald Trump OR Trump) AND rally AND 2024\",\n",
    "    \"(Kamala Harris OR Harris) AND speech AND 2024\",\n",
    "    \"(Donald Trump OR Kamala Harris) AND 2024 election\",\n",
    "    \"(Trump OR Harris) AND campaign AND 2024 election\"\n",
    "]\n",
    "\n",
    "# Track API request count to avoid exceeding limits\n",
    "request_count = 0\n",
    "max_requests = 100  # Free-tier daily API limit\n",
    "\n",
    "# Load existing expanded and full content CSV files\n",
    "existing_expanded_data = pd.read_csv(input_file) if os.path.exists(input_file) else pd.DataFrame()\n",
    "existing_full_content_data = pd.read_csv(full_content_file) if os.path.exists(full_content_file) else pd.DataFrame()\n",
    "\n",
    "# Track URLs to avoid duplicates\n",
    "existing_urls = set(existing_expanded_data[\"url\"]) if not existing_expanded_data.empty else set()\n",
    "processed_urls = set(existing_full_content_data[\"url\"]) if not existing_full_content_data.empty else set()\n",
    "\n",
    "# Fetch new articles from NewsAPI\n",
    "current_date = start_date\n",
    "while current_date >= end_date:\n",
    "    # Convert date to string for API\n",
    "    date_str = current_date.strftime('%Y-%m-%d')\n",
    "    print(f\"Fetching articles for {date_str}...\")\n",
    "\n",
    "    for query in queries:\n",
    "        try:\n",
    "            # Check if API limit is reached\n",
    "            if request_count >= max_requests:\n",
    "                print(\"Reached API limit for the day. Exiting script.\")\n",
    "                sys.exit()\n",
    "\n",
    "            # Fetch articles for the current query and date\n",
    "            response = newsapi.get_everything(\n",
    "                q=query,\n",
    "                from_param=date_str,\n",
    "                to=date_str,\n",
    "                language=\"en\",\n",
    "                sort_by=\"relevancy\",  # Fetch relevant articles\n",
    "                page_size=100  # Max articles per API call\n",
    "            )\n",
    "\n",
    "            # Increment request count\n",
    "            request_count += 1\n",
    "\n",
    "            if response.get('status') != 'ok':\n",
    "                print(f\"API error: {response.get('message')}\")\n",
    "                sys.exit()\n",
    "\n",
    "            # Process the articles\n",
    "            if response.get('articles'):\n",
    "                for article in response['articles']:\n",
    "                    # Only add new articles that are not already saved\n",
    "                    if article['url'] not in existing_urls:\n",
    "                        articles_data.append({\n",
    "                            \"query\": query,  # Include the query used for tracking\n",
    "                            \"source\": article['source']['name'],\n",
    "                            \"author\": article['author'],\n",
    "                            \"title\": article['title'],\n",
    "                            \"description\": article['description'],\n",
    "                            \"url\": article['url'],\n",
    "                            \"published_at\": article['publishedAt'],\n",
    "                            \"content\": article['content']\n",
    "                        })\n",
    "                        # Add the URL to the set of existing URLs\n",
    "                        existing_urls.add(article['url'])\n",
    "        except Exception as e:\n",
    "            # Log the error to a file\n",
    "            with open(\"error_log.txt\", \"a\") as log_file:\n",
    "                log_file.write(f\"Error fetching articles for {query} on {date_str}: {e}\\n\")\n",
    "            print(f\"Error fetching articles for {query} on {date_str}: {e}\")\n",
    "    \n",
    "    # Move to the previous day\n",
    "    current_date -= datetime.timedelta(days=1)\n",
    "\n",
    "    # Avoid hitting API limits by adding a small delay between requests\n",
    "    time.sleep(1)\n",
    "\n",
    "# Save new articles to the expanded CSV file\n",
    "if articles_data:\n",
    "    new_data_df = pd.DataFrame(articles_data)\n",
    "    new_data_df.to_csv(input_file, mode='a', header=not os.path.exists(input_file), index=False)\n",
    "    print(f\"Appended {len(new_data_df)} new articles to '{input_file}'.\")\n",
    "\n",
    "# Extract full content for new articles only\n",
    "new_urls = {article[\"url\"] for article in articles_data}  # URLs of newly fetched articles\n",
    "urls_to_process = new_urls - processed_urls  # Exclude already processed URLs\n",
    "\n",
    "if urls_to_process:\n",
    "    full_content_data = []\n",
    "    for url in urls_to_process:\n",
    "        print(f\"Fetching full content for {url}...\")\n",
    "        full_content = fetch_full_content(url)\n",
    "        if full_content:\n",
    "            full_content_data.append({\n",
    "                \"url\": url,\n",
    "                \"full_content\": full_content\n",
    "            })\n",
    "        else:\n",
    "            print(f\"Failed to fetch full content for {url}\")\n",
    "\n",
    "    # Append full content to the full content CSV file\n",
    "    if full_content_data:\n",
    "        full_content_df = pd.DataFrame(full_content_data)\n",
    "        full_content_df.to_csv(full_content_file, mode='a', header=not os.path.exists(full_content_file), index=False)\n",
    "        print(f\"Appended {len(full_content_df)} new full content articles to '{full_content_file}'.\")\n",
    "else:\n",
    "    print(\"No new articles to process for full content.\")\n",
    "\n"
   ]
  },
  {
   "cell_type": "code",
   "execution_count": null,
   "metadata": {},
   "outputs": [
    {
     "name": "stdout",
     "output_type": "stream",
     "text": [
      "<class 'pandas.core.frame.DataFrame'>\n",
      "RangeIndex: 9610 entries, 0 to 9609\n",
      "Data columns (total 8 columns):\n",
      " #   Column        Non-Null Count  Dtype \n",
      "---  ------        --------------  ----- \n",
      " 0   query         9610 non-null   object\n",
      " 1   source        9610 non-null   object\n",
      " 2   author        9093 non-null   object\n",
      " 3   title         9607 non-null   object\n",
      " 4   description   9598 non-null   object\n",
      " 5   url           9610 non-null   object\n",
      " 6   published_at  9610 non-null   object\n",
      " 7   content       9610 non-null   object\n",
      "dtypes: object(8)\n",
      "memory usage: 600.8+ KB\n"
     ]
    }
   ],
   "source": [
    "# Load the CSV file\n",
    "file_path = 'news_articles_election_candidates_expanded.csv'\n",
    "data = pd.read_csv(file_path)\n",
    "\n",
    "data.head()\n",
    "data.info()"
   ]
  },
  {
   "cell_type": "code",
   "execution_count": 9,
   "metadata": {},
   "outputs": [
    {
     "name": "stdout",
     "output_type": "stream",
     "text": [
      "<class 'pandas.core.frame.DataFrame'>\n",
      "RangeIndex: 9610 entries, 0 to 9609\n",
      "Data columns (total 9 columns):\n",
      " #   Column        Non-Null Count  Dtype \n",
      "---  ------        --------------  ----- \n",
      " 0   query         9610 non-null   object\n",
      " 1   source        9610 non-null   object\n",
      " 2   author        9093 non-null   object\n",
      " 3   title         9607 non-null   object\n",
      " 4   description   9598 non-null   object\n",
      " 5   url           9610 non-null   object\n",
      " 6   published_at  9610 non-null   object\n",
      " 7   content       9610 non-null   object\n",
      " 8   full_content  7556 non-null   object\n",
      "dtypes: object(9)\n",
      "memory usage: 675.8+ KB\n"
     ]
    }
   ],
   "source": [
    "file_path = 'news_articles_election_candidates_full_content.csv'  # Replace with your file path\n",
    "data_full_content = pd.read_csv(file_path)\n",
    "\n",
    "data_full_content.info()"
   ]
  },
  {
   "cell_type": "code",
   "execution_count": 10,
   "metadata": {},
   "outputs": [
    {
     "name": "stdout",
     "output_type": "stream",
     "text": [
      "File size: 47.67 MB\n"
     ]
    }
   ],
   "source": [
    "file_size = os.path.getsize('news_articles_election_candidates_full_content.csv') / (1024 * 1024)\n",
    "print(f\"File size: {file_size:.2f} MB\")\n"
   ]
  },
  {
   "cell_type": "markdown",
   "metadata": {},
   "source": [
    "Remove entries with missing full content"
   ]
  },
  {
   "cell_type": "code",
   "execution_count": 12,
   "metadata": {},
   "outputs": [
    {
     "name": "stdout",
     "output_type": "stream",
     "text": [
      "<class 'pandas.core.frame.DataFrame'>\n",
      "Index: 7556 entries, 0 to 9609\n",
      "Data columns (total 9 columns):\n",
      " #   Column        Non-Null Count  Dtype \n",
      "---  ------        --------------  ----- \n",
      " 0   query         7556 non-null   object\n",
      " 1   source        7556 non-null   object\n",
      " 2   author        7084 non-null   object\n",
      " 3   title         7553 non-null   object\n",
      " 4   description   7548 non-null   object\n",
      " 5   url           7556 non-null   object\n",
      " 6   published_at  7556 non-null   object\n",
      " 7   content       7556 non-null   object\n",
      " 8   full_content  7556 non-null   object\n",
      "dtypes: object(9)\n",
      "memory usage: 590.3+ KB\n"
     ]
    }
   ],
   "source": [
    "# Remove rows with missing full content\n",
    "data_full_content = data_full_content.dropna(subset=['full_content'])\n",
    "\n",
    "# Check the updated DataFrame info\n",
    "data_full_content.info()\n"
   ]
  },
  {
   "cell_type": "code",
   "execution_count": 13,
   "metadata": {},
   "outputs": [],
   "source": [
    "# Save the cleaned dataframe to a new CSV file\n",
    "data_full_content.to_csv('news_articles_election_candidates_full_content_cleaned.csv', index=False)\n"
   ]
  },
  {
   "cell_type": "code",
   "execution_count": 14,
   "metadata": {},
   "outputs": [
    {
     "name": "stdout",
     "output_type": "stream",
     "text": [
      "Number of rows (articles): 7556\n",
      "Number of variables (columns): 9\n"
     ]
    }
   ],
   "source": [
    "print(\"Number of rows (articles):\", data_full_content.shape[0])\n",
    "print(\"Number of variables (columns):\", data_full_content.shape[1])\n"
   ]
  },
  {
   "cell_type": "code",
   "execution_count": 15,
   "metadata": {},
   "outputs": [
    {
     "name": "stdout",
     "output_type": "stream",
     "text": [
      "Number of unique media outlets: 454\n"
     ]
    }
   ],
   "source": [
    "# Calculate the number of unique media outlets\n",
    "unique_media_outlets = data_full_content['source'].nunique()\n",
    "\n",
    "# Display the number of unique media outlets\n",
    "print(f\"Number of unique media outlets: {unique_media_outlets}\")\n"
   ]
  },
  {
   "cell_type": "markdown",
   "metadata": {},
   "source": []
  },
  {
   "cell_type": "code",
   "execution_count": 20,
   "metadata": {},
   "outputs": [],
   "source": [
    "import networkx as nx\n",
    "\n",
    "# Create an empty graph\n",
    "G = nx.Graph()\n",
    "\n",
    "# Add nodes to the graph (each article is a node)\n",
    "for _, row in data_full_content.iterrows():\n",
    "    G.add_node(row['url'], \n",
    "               source=row['source'], \n",
    "               author=row['author'], \n",
    "               title=row['title'], \n",
    "               published_at=row['published_at'], \n",
    "               full_content=row['full_content'])"
   ]
  },
  {
   "cell_type": "markdown",
   "metadata": {},
   "source": [
    "Add Edges Based on Shared Features"
   ]
  },
  {
   "cell_type": "code",
   "execution_count": 30,
   "metadata": {},
   "outputs": [],
   "source": [
    "from sklearn.feature_extraction.text import TfidfVectorizer\n",
    "from sklearn.metrics.pairwise import cosine_similarity\n",
    "import spacy\n",
    "import community as community_louvain\n",
    "\n",
    "# 1. TF-IDF Based Cosine Similarity\n",
    "\n",
    "# Extract full content to calculate TF-IDF vectors\n",
    "vectorizer = TfidfVectorizer(max_features=500)\n",
    "tfidf_matrix = vectorizer.fit_transform(data_full_content['full_content'].fillna(''))\n",
    "\n",
    "# Calculate cosine similarity between TF-IDF vectors\n",
    "similarity_matrix = cosine_similarity(tfidf_matrix)\n",
    "\n",
    "# Create edges based on similarity\n",
    "threshold = 0.7  # How to choose threshold? Higher threshold -> fewer edges\n",
    "for i in range(len(similarity_matrix)):\n",
    "    for j in range(i + 1, len(similarity_matrix)):  # Only upper triangle to avoid duplicate edges\n",
    "        if similarity_matrix[i, j] > threshold:\n",
    "            # Use .iloc to access rows by positional index\n",
    "            url_i = data_full_content.iloc[i]['url']\n",
    "            url_j = data_full_content.iloc[j]['url']\n",
    "            G.add_edge(url_i, url_j, weight=similarity_matrix[i, j])\n"
   ]
  },
  {
   "cell_type": "markdown",
   "metadata": {},
   "source": [
    "# Sentiment analysis (not done)\n",
    "Add Node Attributes for Sentiment and Keywords (optional)"
   ]
  },
  {
   "cell_type": "code",
   "execution_count": 11,
   "metadata": {},
   "outputs": [],
   "source": [
    "data.dropna(subset=['title', 'description'], inplace=True)\n"
   ]
  },
  {
   "cell_type": "code",
   "execution_count": 14,
   "metadata": {},
   "outputs": [],
   "source": [
    "data['published_at'] = pd.to_datetime(data['published_at'], errors='coerce')\n"
   ]
  },
  {
   "cell_type": "code",
   "execution_count": 18,
   "metadata": {},
   "outputs": [],
   "source": [
    "import re\n",
    "def clean_text(text):\n",
    "    # Remove URLs\n",
    "    text = re.sub(r'http\\S+', '', text)\n",
    "    # Remove HTML tags\n",
    "    text = re.sub(r'<.*?>', '', text)\n",
    "    # Remove special characters and numbers\n",
    "    text = re.sub(r'[^A-Za-z\\s]', '', text)\n",
    "    # Convert to lowercase\n",
    "    text = text.lower()\n",
    "    # Remove extra whitespace\n",
    "    text = re.sub(r'\\s+', ' ', text).strip()\n",
    "    return text\n",
    "\n",
    "# Apply the function to 'content' and 'full_content'\n",
    "data['content_clean'] = data['content'].apply(clean_text)\n",
    "data['full_content_clean'] = data['full_content'].apply(clean_text)\n"
   ]
  },
  {
   "cell_type": "code",
   "execution_count": 19,
   "metadata": {},
   "outputs": [],
   "source": [
    "data.reset_index(drop=True, inplace=True)\n"
   ]
  },
  {
   "cell_type": "code",
   "execution_count": 21,
   "metadata": {},
   "outputs": [
    {
     "name": "stdout",
     "output_type": "stream",
     "text": [
      "<class 'pandas.core.frame.DataFrame'>\n",
      "RangeIndex: 9556 entries, 0 to 9555\n",
      "Data columns (total 11 columns):\n",
      " #   Column              Non-Null Count  Dtype              \n",
      "---  ------              --------------  -----              \n",
      " 0   query               9556 non-null   object             \n",
      " 1   source              9556 non-null   object             \n",
      " 2   author              9556 non-null   object             \n",
      " 3   title               9556 non-null   object             \n",
      " 4   description         9556 non-null   object             \n",
      " 5   url                 9556 non-null   object             \n",
      " 6   published_at        9556 non-null   datetime64[ns, UTC]\n",
      " 7   content             9556 non-null   object             \n",
      " 8   full_content        9556 non-null   object             \n",
      " 9   content_clean       9556 non-null   object             \n",
      " 10  full_content_clean  9556 non-null   object             \n",
      "dtypes: datetime64[ns, UTC](1), object(10)\n",
      "memory usage: 821.3+ KB\n",
      "None\n"
     ]
    }
   ],
   "source": [
    "print(data.info())\n"
   ]
  },
  {
   "cell_type": "code",
   "execution_count": 22,
   "metadata": {},
   "outputs": [],
   "source": [
    "data.to_csv('cleaned_data_victor.csv', index=False)\n"
   ]
  },
  {
   "cell_type": "code",
   "execution_count": 34,
   "metadata": {},
   "outputs": [
    {
     "name": "stdout",
     "output_type": "stream",
     "text": [
      "Number of nodes (media outlets): 497\n"
     ]
    }
   ],
   "source": [
    "import pandas as pd\n",
    "\n",
    "# Load your cleaned DataFrame (assuming it's named df)\n",
    "num_nodes = data['source'].nunique()\n",
    "print(f\"Number of nodes (media outlets): {num_nodes}\")\n"
   ]
  },
  {
   "cell_type": "code",
   "execution_count": 35,
   "metadata": {},
   "outputs": [],
   "source": [
    "from sklearn.feature_extraction.text import CountVectorizer\n",
    "\n",
    "# Combine all articles for each media outlet\n",
    "outlet_articles = data.groupby('source')['full_content'].apply(' '.join).reset_index()\n",
    "\n",
    "# Initialize CountVectorizer to extract keywords\n",
    "vectorizer = CountVectorizer(stop_words='english', max_features=1000)  # Adjust max_features as needed\n",
    "X = vectorizer.fit_transform(outlet_articles['full_content'])\n",
    "\n",
    "# Create a DataFrame of keywords for each outlet\n",
    "keywords_df = pd.DataFrame(X.toarray(), index=outlet_articles['source'], columns=vectorizer.get_feature_names_out())\n"
   ]
  },
  {
   "cell_type": "code",
   "execution_count": 36,
   "metadata": {},
   "outputs": [],
   "source": []
  },
  {
   "cell_type": "markdown",
   "metadata": {},
   "source": []
  },
  {
   "cell_type": "markdown",
   "metadata": {},
   "source": []
  },
  {
   "cell_type": "markdown",
   "metadata": {},
   "source": [
    "Named Entity Recognition (NER) to identify shared themes or references\n",
    "adding additional edges based on shared entities"
   ]
  },
  {
   "cell_type": "code",
   "execution_count": null,
   "metadata": {},
   "outputs": [],
   "source": [
    "# spacy.cli.download(\"en_core_web_sm\")\n",
    "\n",
    "# nlp = spacy.load('en_core_web_sm')\n",
    "\n",
    "# # Extract named entities from each article\n",
    "# data_full_content['entities'] = data_full_content['full_content'].apply(lambda x: [ent.text for ent in nlp(x).ents if ent.label_ in ['PERSON', 'ORG', 'GPE']])\n",
    "\n",
    "# # Add a simple additional edge creation step based on shared named entities\n",
    "# # Add a simple additional edge creation step based on shared named entities\n",
    "# for i in range(len(data_full_content)):\n",
    "#     for j in range(i + 1, len(data_full_content)):\n",
    "#         # Use .iloc to access rows by their positional index\n",
    "#         entities_i = data_full_content.iloc[i]['entities']\n",
    "#         entities_j = data_full_content.iloc[j]['entities']\n",
    "        \n",
    "#         # Find shared entities between articles i and j\n",
    "#         shared_entities = set(entities_i) & set(entities_j)\n",
    "        \n",
    "#         if len(shared_entities) > 0:\n",
    "#             G.add_edge(data_full_content.iloc[i]['url'], data_full_content.iloc[j]['url'], shared_entities=shared_entities)\n",
    "\n"
   ]
  },
  {
   "cell_type": "markdown",
   "metadata": {},
   "source": [
    "Network Analysis"
   ]
  },
  {
   "cell_type": "code",
   "execution_count": 31,
   "metadata": {},
   "outputs": [
    {
     "name": "stdout",
     "output_type": "stream",
     "text": [
      "Number of nodes (articles): 7556\n",
      "Number of links (edges): 21870295\n",
      "Average degree: 5788.855214399153\n",
      "Maximum degree: 7154\n"
     ]
    },
    {
     "data": {
      "image/png": "[encoded data removed]",
      "text/plain": [
       "<Figure size 640x480 with 1 Axes>"
      ]
     },
     "metadata": {},
     "output_type": "display_data"
    },
    {
     "name": "stdout",
     "output_type": "stream",
     "text": [
      "Node: https://www.wired.com/story/russia-election-disinformation-2024-election-day/, Attributes: {'source': 'Wired', 'author': 'Lily Hay Newman, Tess Owen', 'title': 'Russia Is Going All Out on Election Day Interference', 'published_at': '2024-11-05T21:04:35Z', 'full_content': \"As the 2024 US presidential election comes to a close, and with Donald Trump on the ballot once again, Russian actors are spreading disinformation with unprecedented and alarming intensity—and US officials say that the Kremlin’s efforts to undermine confidence in the election and foment unrest are likely to continue into January.\\n\\nRussian disinformation operations have had a prominent presence in United States elections since the Kremlin’s sea-changing influence campaign during the 2016 presidential race between Hillary Clinton and Trump. But with so much scrutiny and investigation into that operation’s mechanics and impact—including the use of hack-and-leak tactics against the Democratic National Committee, Clinton campaign, and other targets—Russia was less technically aggressive and more focused on influence operations in the midterms and 2020 presidential election. That momentary respite is now over.\\n\\nIn calls with reporters on Monday night and Tuesday, as well as in public statements, US intelligence and law enforcement officials working on election security warned repeatedly that foreign influence actors including Iran, but “particularly Russia,” are ramping up their activity with an “increasing volume of inauthentic content online.” And while officials say they haven't detected cyberattacks beyond floods of junk traffic, or DDoS attacks, attempting to knock election-related sites offline, Russian activity has become increasingly menacing.\\n\\nOn Tuesday morning, for example, Georgia secretary of state Brad Raffensperger attributed multiple bomb threats against two Georgia polling places to Russia. The threats were deemed non-credible, but they briefly disrupted voting at the two poll sites. The FBI added later on Tuesday that poll sites in “several states” faced non-credible bomb threats that appeared to “originate from Russian email domains.”\\n\\n“It is a greater scope and scale of foreign influence operations we have seen in 2024 than in prior cycles, and yes, Russia presents, in terms of our adversaries, the greatest degree of capability and sophistication,” Cait Conley, senior adviser to the director of the Cybersecurity and Infrastructure Security Agency (CISA), told reporters in a call on Tuesday afternoon. “Overall, I think the range of tactics we are seeing being employed, and the level of sophistication, is greater than prior cycles.”\\n\\nIn a joint statement on Monday evening, the Office of the Director of National Intelligence, CISA, and the FBI emphasized that “Russia is the most active threat” to the US election. “Influence actors linked to Russia in particular are manufacturing videos and creating fake articles to undermine the legitimacy of the election, instill fear in voters regarding the election process, and suggest Americans are using violence against each other due to political preferences,” they wrote.\\n\\nThe agencies cited some specific examples of content from Russian influence campaigns. One was a fake interview with someone purporting to be a former aide to Arizona secretary of state Adrian Fontes, claiming a vast election fraud campaign involving the manufacture of fake overseas ballots. Another involved alleged Russian influence actors amplifying an article that falsely claimed US officials in swing states were committing election fraud using a variety of tactics, including ballot stuffing and cyberattacks.\\n\\nA video claiming to show evidence of fraud in Georgia was also linked to “Russian influence actors” in late September. Last month, experts also credited Russia-aligned propaganda network Storm-1516 with amplifying baseless claims that Minnesota governor and vice presidential candidate Tim Walz previously assaulted one of his former students.\"}\n",
      "Node: https://www.theverge.com/2024/11/5/24288777/election-results-apple-news-lock-screen, Attributes: {'source': 'The Verge', 'author': 'Justine Calma', 'title': 'Apple News will let you watch election results from your lockscreen', 'published_at': '2024-11-05T16:34:12Z', 'full_content': 'For anyone obsessively watching election results in the US, Apple News will bring live updates to iPhone and iPad users’ lockscreens. And if you’ve got a recent iPhone, you can keep tabs on the electoral count right in the Dynamic Island while doing other things on your phone.\\n\\nTo get the updates on your lockscreen, you’ll have to register first. Open up Apple News and tap on the “Follow the 2024 election live” banner. If you don’t see the option right away, look for “Election 2024” under the “Special Coverage” section of the menu. You should get a notification that the Live Activity has been enabled.\\n\\nScreenshot: Apple News\\n\\nThe widget will be available on iPhones, iPads, and Apple Watches starting tonight as votes in the US presidential and congressional elections are counted, AppleInsider reports. It’ll show the electoral count for Donald Trump and Kamala Harris as well as Senate and House election results.'}\n",
      "Node: https://www.npr.org/2024/11/04/g-s1-31268/2024-election-ap-race-calls-results, Attributes: {'source': 'NPR', 'author': 'Megan Pratz', 'title': \"Here's how NPR will report the 2024 election results\", 'published_at': '2024-11-05T10:00:00Z', 'full_content': \"Here's how NPR will report the 2024 election results\\n\\ntoggle caption Jeff Kowalsky/AFP via Getty Images\\n\\nFor more 2024 election coverage from the NPR Network head to our live updates page.\\n\\nVoters have been voting, ballots will be counted, and soon results will start to come in. But how will races be called on election night? Determining a winner in any of the thousands of races across the U.S., from ballot measures on issues like abortion rights and voting, to the presidential race and all the congressional, state and local races in between, is a big job. That’s why NPR partners with The Associated Press — and has for many years — to ensure that races are called accurately.\\n\\nSponsor Message\\n\\nThe Associated Press has been calling races for a long time. The organization’s decision desk has called races since 1848 and even now, more than 170 years later, it keeps those calls pretty simple. Here’s how the AP explains its race-calling process:\\n\\nRace calls are based on provable facts, primarily from the AP’s vote count, which is compiled from state and local election offices around the nation.\\n\\nAs more and more ballots are tabulated starting on election night, the AP will monitor the incoming vote at the county level and analyze who is in the lead and what areas the votes are coming from.\\n\\nAt the same time, the AP tries to determine throughout the night how many ballots are uncounted and from what areas.\\n\\nOnce AP has an idea of how many ballots are outstanding versus how many have been counted, it can start to tabulate the likelihood of a certain winner being victorious in a certain contest based on a lot of different factors: where the ballots that are outstanding are coming from, what the makeup of those communities looks like and even how the individual chose to vote.\\n\\nFor NPR’s part, once the AP calls a race, we will alert our broadcast and digital audiences on our special coverage and live blog and ensure that our hundreds of member stations also have access to that information. We will use AP’s data to populate our election results pages so viewers can keep track in real time.\\n\\n\\n\\nSponsor Message\\n\\nHow does AP call races when not all votes have been counted?\\n\\nSometimes, races might be called without all — or even most — of the votes counted. How is that possible? The Associated Press explains that it uses that same calculation of ballots, external factors and other data to inform its decisions.\\n\\nIn almost all cases, races can be called well before 100% of the votes have been counted. The AP’s team of election journalists and analysts will call a race as soon as a clear winner can be determined. That may sound obvious, but it is the guiding principle that drives the organization’s election race-calling process.\\n\\nThe AP’s race calls are not predictions and are not based on speculation. They are declarations based on an analysis of vote results and other election data that one candidate has emerged as the winner and that no other candidate in the race will be able to overtake the winner once all the votes have been counted.\\n\\nIt sounds simple, right? The AP won’t call races until “a clear winner can be determined.” But that doesn’t always require all of the votes for every precinct for every race. Sometimes it’s all about the math: Can this candidate feasibly win with the votes outstanding in the places they are yet to be counted? And that raises another, really important point. The AP — and therefore NPR — will not project races. The organization will wait until it has certainty to call races and that is why its race calls are trusted by hundreds of news organizations, including NPR. Because the AP waits until there is surety, even if it means waiting just a bit longer to be sure.\\n\\nOn an ethical note, NPR will not make race calls just because a candidate declares victory, nor will NPR use a concession speech or statement to solely follow a race call either. That is true of The Associated Press as well:\\n\\nSponsor Message\\n\\nAP race calls are never made based on lobbying from campaigns or political parties or announcements made by other news organizations, or on candidate victory speeches. Although it will never call a winner based on a concession speech, in some cases, a concession is the final piece of the puzzle in confirming that there will be no recount in a close race.\\n\\nWhile election night is the start of these race calls, it likely will not be the end. Races will continue to be called until a winner can be determined in the presidential election and race calls will be tabulated to determine balance of power in the Senate and the House of Representatives. NPR will cover all major race calls and provide ongoing coverage on air and online of just how the 2024 election shakes out.\\n\\n\"}\n",
      "Node: https://www.businessinsider.com/what-are-2024-presidential-election-swing-states-trump-harris-polls-2024-11, Attributes: {'source': 'Business Insider', 'author': 'insider@insider.com (John L. Dorman,Kelsey Vlamis)', 'title': \"The 2024 presidential election may come down to swing states' results. Here's where Trump and Harris lead in the polls.\", 'published_at': '2024-11-05T22:13:18Z', 'full_content': 'On Election Day 2024, both parties are eyeing their pathways to victory.\\n\\nVice President Kamala Harris is facing former President Donald Trump.\\n\\nSwing states in the Midwest and Sun Belt will likely determine the outcome of the presidential race.\\n\\nSign up to get the inside scoop on today’s biggest stories in markets, tech, and business — delivered daily. Read preview Thanks for signing up! Go to newsletter preferences Thanks for signing up! Access your favorite topics in a personalized feed while you\\'re on the go. download the app Email address Sign up By clicking “Sign Up”, you accept our Terms of Service and Privacy Policy . You can opt-out at any time by visiting our Preferences page or by clicking \"unsubscribe\" at the bottom of the email.\\n\\nAdvertisement\\n\\nOver the past two decades, the road to the White House — once dominated by Florida and Ohio — has evolved.\\n\\nWhile bellwethers like Pennsylvania and Wisconsin remain a critical part of the calculus for Democratic and Republican presidential nominees in reaching the 270 electoral vote threshold for victory, the Sun Belt region has also grown in importance.\\n\\nFor Vice President Kamala Harris and former President Donald Trump, who are facing each other in the 2024 presidential election, every vote will be crucial in what is considered a tight race.\\n\\nAdvertisement\\n\\nBoth campaigns have been targeting a narrow band of seven swing states to capture the White House: Arizona, Georgia, Michigan, Nevada, North Carolina, Pennsylvania, and Wisconsin.\\n\\nDemocrats — who defied conventional political wisdom in 2022 by retaining their Senate majority and minimizing major losses in the House despite losing control of the lower chamber — are working hard to hold the White House as they face voter unease over the economy and pushback over the Israel-Hamas war.\\n\\nBefore President Joe Biden dropped out of the race for reelection in July 2024, Republicans believed that he would be a liability for Democrats. But the GOP\\'s political calculus for the race evolved after the emergence of Harris as the Democratic nominee.\\n\\nAdvertisement\\n\\nAnd Republicans have had myriad struggles over the last two years as their stewardship of the House has not exactly worked out how they had hoped. They elected a speaker (Kevin McCarthy of California) who was subsequently removed and have struggled to enact an agenda under a new speaker (Mike Johnson of Louisiana) with a razor-thin majority. The series of events created a \"chaos\" narrative around the party, which doesn\\'t help at the top of the ticket.\\n\\nThe GOP must also contend with the toxicity of Trump\\'s political brand among a sizable contingent of voters, especially among suburbanites and Independents who are likely to decide the election.\\n\\nOne major issue that has continued to weigh down Republican candidates is abortion rights, especially as voters in an array of states have rejected several anti-abortion measures following the Supreme Court\\'s 2022 decision to overturn Roe v. Wade. Democrats have won big in urban and suburban districts over the issue — from congressional races to local elections — and they\\'ve even made inroads in some GOP-leaning areas where blocs of Republicans support some form of abortion rights.\\n\\nAdvertisement\\n\\nTrump has been eager to take credit for installing three conservative justices on the Supreme Court, and in April 2024 he stated that abortion was now an issue to be determined in the states, frustrating many conservatives who have sought a national abortion ban.\\n\\nElection results are set to start coming in on Tuesday night, but it could take days before a winner is called.\\n\\nHere\\'s what to know about the seven battleground states that will ultimately determine who wins the race.\\n\\nAdvertisement\\n\\nShortly after Vice President Kamala Harris named Minnesota Gov. Tim Walz as her running mate, the Democratic ticket held a major rally in Glendale, Arizona. Melina Mara/The Washington Post via Getty Images\\n\\nArizona\\n\\n2012 margin: Romney +9.0%\\n\\n2016 margin: Trump +3.5%\\n\\n2020 margin: Biden +0.3%\\n\\nAdvertisement\\n\\nBetween 1952 and 2016, Arizona backed the Republican presidential nominee in every election except for 1996 — when then-President Bill Clinton won the state over former Kansas Sen. Bob Dole by a little over 2 points.\\n\\nLong associated with Barry Goldwater, the conservative political icon who was the Republican presidential nominee in 1964, the Grand Canyon State for decades had a decidedly red lean in federal races.\\n\\nBut as the population of Arizona has swelled, its political orientation has also shifted.\\n\\nAdvertisement\\n\\nIn 2012, former Massachusetts Gov. Mitt Romney easily won the state over then-President Barack Obama, but former Secretary of State Hillary Clinton whittled the GOP margin of victory down to just under 4 points in 2016.\\n\\nBiden, buoyed by gains among the state\\'s burgeoning Latino population, narrowly won the state over Trump in 2020 by a little under 11,000 votes out of nearly 3.4 million ballots.\\n\\nDemocrats remain encouraged by their performance in Arizona in the 2022 midterms.\\n\\nAdvertisement\\n\\nNot only did Secretary of State Katie Hobbs defeat MAGA-infused Kari Lake in the gubernatorial race, but Sen. Mark Kelly won a full six-year term over Republican Blake Masters. Adrian Fontes was also elected to succeed Hobbs over state Rep. Mark Finchem, who repeatedly questioned the 2020 presidential election results.\\n\\nHarris will have to recreate a win in a state where Republicans have long been the dominant party. And Lake is now running in the state\\'s marquee Senate race, where she\\'s facing Democratic Rep. Ruben Gallego.\\n\\nFormer President Donald Trump is hoping to win back Georgia after losing the state to Biden in 2020. AP Photo/Andrew Harnik\\n\\nGeorgia\\n\\n2012 margin: Romney +7.8%\\n\\nAdvertisement\\n\\n2016 margin: Trump +5.1%\\n\\n2020 margin: Biden +0.2%\\n\\nFor decades, Republicans could easily depend on the Peach State\\'s electoral votes falling into their column. No more.\\n\\nAdvertisement\\n\\nWhile GOP politicians were enjoying double-digit wins in statewide races, former Democratic state House Minority Leader Stacey Abrams — who saw the possibility of a more politically competitive Georgia — worked behind the scenes to build a turnout organization that could rival that of the Republican Party.\\n\\nIn 2018, Abrams came within 55,000 votes of winning that year\\'s gubernatorial election.\\n\\nTwo years later, Biden won Georgia by roughly 12,000 votes over Trump, followed by the dual 2021 runoff victories of Sens. Raphael Warnock and Jon Ossoff over Republicans Kelly Loeffler and David Perdue, respectively.\\n\\nAdvertisement\\n\\nThe exponential growth of the Atlanta suburbs, driven by new Black, Asian, and Latino residents, has given the state a purple veneer — but the 2022 midterms also showed the limitations of Democratic gains.\\n\\nWarnock won a full six-year term in a December runoff after fending off a challenge from Republican Herschel Walker, becoming the only Democrat to win statewide in the midterms. But Walker, aided by robust support in the state\\'s rural counties, still won 48.6% of the vote in the runoff, despite a candidacy that some Republicans saw as deeply flawed.\\n\\nAnd Republicans were victorious in every other statewide election, led by Gov. Brian Kemp, who defeated Abrams in a rematch of their 2018 contest by nearly 300,000 votes.\\n\\nAdvertisement\\n\\nThis year, both parties will have fought hard to capture the state\\'s 16 electoral votes: Democrats have focused heavily on turning out Black voters and suburban voters in metro Atlanta, while Republicans looked to boost their traditional support in the state\\'s rural stretches.\\n\\nTranslation: Georgia has remained on everyone\\'s mind this year.\\n\\nBiden has faced major pushback in Michigan over his handling of the conflict in Gaza, but it\\'s unclear how that will impact Harris\\' chances in the key battleground state. AP Photo/David Goldman, File\\n\\nMichigan\\n\\n2012 margin: Obama +9.5%\\n\\nAdvertisement\\n\\n2016 margin: Trump +0.2%\\n\\n2020 margin: Biden +2.8%\\n\\nMichigan has long been a critical part of the electoral calculus for Democrats, as they carried the state in every presidential race from 1992 to 2012 by appealing to voters in Detroit and its middle- and upper-middle-class suburbs, while also enjoying support among union households and moderates in the exurban and rural stretches of the state.\\n\\nAdvertisement\\n\\nBut the party was stunned by Trump\\'s narrow 2016 win in the longtime blue state, as the Republican made significant inroads with the base of white working-class voters who had been slowly drifting away from Democrats cycle after cycle.\\n\\nIn 2020, the party put a premium on flipping the Wolverine State back into its column, which Biden did, winning by nearly 3 points over Trump.\\n\\nAnd in November 2022, Democrats in the state boasted some of their party\\'s most impressive victories in the entire country.\\n\\nAdvertisement\\n\\nGov. Gretchen Whitmer won reelection by nearly 11 points, while state Attorney General Dana Nessel and Secretary of State Jocelyn Benson easily won their races. The party also flipped control of both houses of the Michigan legislature, and a referendum enshrining reproductive rights into the state Constitution was approved by voters.\\n\\nStill, despite the Democratic wins, the state\\'s 15 electoral votes have been a sought-after prize for both parties in 2024.\\n\\nA major caveat: Biden has faced enormous pushback from the state\\'s Arab American community over his handling of the conflict in Gaza, which led more than 100,000 Michiganders to vote \"uncommitted\" instead of selecting the president in the March Democratic primary. It remains unclear how these voters will respond to Harris\\' candidacy.\\n\\nAdvertisement\\n\\nTrump is focusing on economic issues as he works to flip Nevada into the GOP column. Brandon Bell/Getty Images\\n\\nNevada\\n\\n2012 margin: Obama +6.7%\\n\\nRelated stories\\n\\n2016 margin: Clinton +2.4%\\n\\n2020 margin: Biden +2.4%\\n\\nAdvertisement\\n\\nDemocrats have been victorious on the presidential level in the Silver State since 2008, when Obama won by nearly 13 points, followed by his victory of nearly 7 points in 2012.\\n\\nBut Clinton and Biden both won the state by a little over 2 points, as Republicans have seen the fast-growing Western state as one that can be flipped into their column, especially if they can make inroads in Democratic-heavy Clark County.\\n\\nIn the 2022 midterms, Republicans got a huge boost in the state when their gubernatorial nominee, Clark County Sheriff Joe Lombardo, defeated incumbent Democratic Gov. Steve Sisolak.\\n\\nAdvertisement\\n\\nBut Democrats also notched a major win by reelecting Sen. Catherine Cortez Masto to a second term over former state Attorney General Adam Laxalt, who had been strongly backed by Trump. And after state Democrats approved congressional maps that some in the party saw as especially risky in a GOP wave year, all three of the party\\'s House incumbents — Dina Titus, Steven Horsford, and Susie Lee — won their respective races.\\n\\nThe ticket-splitting in the midterms once again showed the critical nature of Nevada in national politics. Both parties are looking to win the state in 2024, especially as the economy remains at the forefront of voters\\' minds.\\n\\nNorth Carolina Attorney General Josh Stein has defied the state\\'s slight GOP lean in recent presidential years, winning his races in 2016 and 2020 by razor-thin margins. AP Photo/Andrew Harnik, File\\n\\nNorth Carolina\\n\\n2012 margin: Romney +2.04%\\n\\nAdvertisement\\n\\n2016 margin: Trump +3.7%\\n\\n2020 margin: Trump +1.3%\\n\\nSince 1980, Republican presidential nominees have won North Carolina in virtually every election, with the exception being Obama\\'s razor-thin 2008 victory over then-Arizona GOP Sen. John McCain.\\n\\nAdvertisement\\n\\nAnd no presidential candidate has secured a majority of the vote in North Carolina since Romney won 50.4% of the vote in 2012, making this once solidly-red presidential state a real battleground.\\n\\nDemocrats have focused heavily on North Carolina this year, given the close nature of the results in 2020, as well as the fact that the party sees the state as one where they can appeal to its suburban electorate — a critical part of Biden\\'s coalition four years ago.\\n\\nHowever, the GOP is banking on Trump\\'s popularity in the state\\'s rural regions, which could sway the statewide tally in the former president\\'s favor if he\\'s able to effectively turn out his supporters.\\n\\nAdvertisement\\n\\nAnd in addition to the presidential race is the highly-competitive gubernatorial contest between Democratic state Attorney General Josh Stein and Republican Lt. Gov. Mark Robinson, two well-known statewide figures who are angling to succeed term-limited Democratic Gov. Roy Cooper.\\n\\nHarris has been a frequent presence in Pennsylvania. AP Photo/Susan Walsh\\n\\nPennsylvania\\n\\n2012 margin: Obama +5.4%\\n\\n2016 margin: Trump +0.7%\\n\\nAdvertisement\\n\\n2020 margin: Biden +1.2%\\n\\nBiden\\'s hometown of Scranton is dear to his heart so Pennsylvania was always going to be a key state for the party in 2024. And even with Biden out of the presidential race, the state remains just as critical for Democrats.\\n\\nDemocrats carried Pennsylvania in every presidential race from 1992 to 2012, until Trump narrowly edged out Clinton in 2016, gaining support among the white working-class voters who populate the exurban and rural communities across the state.\\n\\nAdvertisement\\n\\nBut Biden clawed back in 2020, boosted by strong returns in Philadelphia and its affluent suburbs, as well as a robust vote in Allegheny County, which includes Pittsburgh.\\n\\nAnd in 2022, Democrats had a huge year in the state, electing Lt. Gov. John Fetterman to the Senate to succeed retiring GOP Sen. Pat Toomey, while also electing state Attorney General Josh Shapiro in a landslide to succeed term-limited Democratic Gov. Tom Wolf.\\n\\nThe party also regained control the state House of Representatives, winning back a majority they lost in the 2010 midterms.\\n\\nAdvertisement\\n\\nDespite the GOP losses, the party — keen on winning back some suburban voters and improving their margins in the state\\'s rural outposts — has been making a major play for Pennsylvania this year.\\n\\nWisconsin Gov. Tony Evers, a Democrat, was elected in 2018, while Biden also carried the state in 2020. AP Photo/Andy Manis, File\\n\\nWisconsin\\n\\n2012 margin: Obama +6.9%\\n\\n2016 margin: Trump +0.8%\\n\\nAdvertisement\\n\\n2020 margin: Biden +0.6%\\n\\nWisconsin is one of the most politically divided states in the country.\\n\\nDemocratic presidential nominees Al Gore and John Kerry eked out statewide wins in 2000 and 2004, respectively, and Obama won the state easily in 2008 and 2012.\\n\\nAdvertisement\\n\\nBut Trump flipped Wisconsin to the GOP in 2016, the first time it had supported a Republican presidential nominee since 1984.\\n\\nDemocrats, stunned by the loss, regrouped and elected Tony Evers as governor in 2018 — knocking out onetime GOP star Scott Walker — while also reelecting Sen. Tammy Baldwin to a second term.\\n\\nBiden went on to narrowly win the state over Trump in 2020.\\n\\nAdvertisement\\n\\nAnd in November 2022, Evers was reelected to a second term over Republican businessman Tim Michels, while GOP Sen. Ron Johnson narrowly defeated then-Lt. Gov. Mandela Barnes to earn a third term in the upper chamber.\\n\\nBoth parties have been eyeing the Badger State — and looking to turn out their respective bases — in what will be another competitive race on the presidential level.'}\n",
      "Node: https://www.cnet.com/tech/services-and-software/how-do-i-keep-track-of-official-election-results-in-key-states-today/, Attributes: {'source': 'CNET', 'author': 'Thomas Kika', 'title': 'How Do I Keep Track of Official Election Results in Key States Today?', 'published_at': '2024-11-05T17:45:00Z', 'full_content': 'All anyone is talking about today is the presidential election, and so expect news outlets to have wall-to-wall coverage of the results, but you can filter some of that noise by going straight to the source and getting only the results you want, especially from official sites in key states.\\n\\nElection Day is headlined this year with the race for president between Vice President Kamala Harris and former President Donald Trump. Like the last election cycle, experts predict a tight race that could come down to results from a handful of key battleground states. Turnout is also anticipated to be high this year, with over 84 million people voting early in the US so far, and states like Georgia already reporting record-breaking numbers. For comparison, over 101 million people voted early in the 2020 general election.\\n\\nRead on to find out where you\\'ll be able to find official Election Day updates, and for more, find out how you can see what\\'s on your ballot this year and see if your state lets you register to vote today.\\n\\nWhat are the key battleground states in 2024?\\n\\nOn account of the mechanics of the Electoral College system, it is often the case in recent decades that presidential elections are ultimately decided by a handful of \"battleground states,\" also known as \"swing states.\" These are states with a population more evenly divided between Democratic and Republican voters than most, making it more likely that they could \"swing\" either way during a presidential election and decide the outcome.\\n\\nThis year, seven states are considered to be the key battlegrounds: Arizona, Georgia, Michigan, Nevada, North Carolina, Pennsylvania and Wisconsin. These are the states whose results will most likely garner the most attention come Election Day.\\n\\nWhere can I get official voting results for the key battleground states?\\n\\nFor each of these states, you\\'ll be able to get Election Day results online from an official state government website, typically the Secretary of State site, but also potentially the state Board of Elections site. Below is where to check results for each battleground state:\\n\\nWhat\\'s a simpler way to follow results today?\\n\\nIf you\\'d prefer not to take in the election\\'s results this way and maybe want something simpler while still cutting back on all the news feed noise, you have of course options. One in particular worth noting is CNN\\'s new \"Magic Wall\" app, which offers an at-a-glance look at how the results are going using a map of the US. States will shift between red or blue depending on the final results, and you can chose to see updated results for the presidential race, House races, Senate races and gubernatorial races.\\n\\nNumerous other outlets and organizations are offer similar election updates via the web, with result maps available from places like ABC News, Bloomberg, Reuters and 270toWin.\\n\\nThe easiest way to track the election is with Google\\n\\nif even that is too much and you want to keep track of the election but don\\'t want to download an application or go to a specific website, you can use Google, which pulls US election results from The Associated Press (AP), a trusted source with a long history of accurate election results.\\n\\nIn Google, simply type \"election\" or \"election results\" and a 2024 US elections panel will appear at the top of Google, giving you different options to browse through, including overview (top stories, news and so on), dates, results, how to vote, where to vote and more. In the Results tab, you\\'ll see presidential results first (results expected starting around 4 PM PT and later). You can browse through results for the Senate and House, governor races, and ballot measures.\\n\\nYou can view election results nationally or by state. Nelson Aguilar/CNET\\n\\nIf you\\'re an iPhone user, track the election from your lock screen\\n\\nIf you\\'re an iPhone user, there\\'s an even easier way to track the election. Starting today, you can go into Apple News and opt-in to get live, up-to-date results of the election from your lock screen or directly on your home screen. As long as you have an iPhone 14 Pro or later, you can go into the News app and tap the Follow the election live banner to get a large and interactive Live Activity widget to view realtime election updates and results later today.\\n\\nThe election Live Activities widget will go live later today. Nelson Aguilar/CNET\\n\\nWhen could we know the winner of the 2024 presidential election?\\n\\nDon\\'t expect to learn final results when the first polls on the East Coast start to close at 6 p.m. ET. Be wary of politicians or partisans who do call the race early. Keep your guard up for nonsense you may hear from so-called experts. While some elections have been called on election night, you probably won\\'t know who won by the time you go to bed tonight.\\n\\nIn 2020, it took till the Saturday after Election Day for the result of the presidential race to be called, and voters are being cautioned to again not expect a firm result by the end of Election Day, Nov. 5, owing largely to the seemingly close nature of the race. The closer an election is in a given state, the longer it takes for enough ballots to be counted to get the final result.\\n\\nWhile we probably won\\'t wait to know the results for a month, states need to certify their election results by Dec. 11.\\n\\nFor more on the election, find out where each candidate stands on the child tax credit and how the election could change the way we use the internet.'}\n"
     ]
    }
   ],
   "source": [
    "import matplotlib.pyplot as plt\n",
    "\n",
    "# Number of Nodes and Edges\n",
    "num_nodes = G.number_of_nodes()\n",
    "num_edges = G.number_of_edges()\n",
    "print(f\"Number of nodes (articles): {num_nodes}\")\n",
    "print(f\"Number of links (edges): {num_edges}\")\n",
    "\n",
    "# Step 8: Degree Distribution\n",
    "# Get degree for each node (article)\n",
    "degrees = [degree for _, degree in G.degree()]\n",
    "\n",
    "# Average and Maximum Degree\n",
    "average_degree = sum(degrees) / len(degrees)\n",
    "max_degree = max(degrees)\n",
    "print(f\"Average degree: {average_degree}\")\n",
    "print(f\"Maximum degree: {max_degree}\")\n",
    "\n",
    "# Degree Distribution Visualization\n",
    "plt.hist(degrees, bins=20, color='b', alpha=0.7)\n",
    "plt.title('Degree Distribution of the Network')\n",
    "plt.xlabel('Degree')\n",
    "plt.ylabel('Frequency')\n",
    "plt.show()\n",
    "\n",
    "# Step 9: Centrality Measures\n",
    "# Degree Centrality\n",
    "# degree_centrality = nx.degree_centrality(G)\n",
    "# top_degree_nodes = sorted(degree_centrality.items(), key=lambda x: x[1], reverse=True)[:5]\n",
    "# print(\"Top 5 nodes by degree centrality:\", top_degree_nodes)\n",
    "\n",
    "# Betweenness Centrality\n",
    "# betweenness_centrality = nx.betweenness_centrality(G)\n",
    "# top_betweenness_nodes = sorted(betweenness_centrality.items(), key=lambda x: x[1], reverse=True)[:5]\n",
    "# print(\"Top 5 nodes by betweenness centrality:\", top_betweenness_nodes)\n",
    "\n",
    "# Step 10: Community Detection\n",
    "# Louvain Community Detection\n",
    "# partition = community_louvain.best_partition(G)\n",
    "# nx.set_node_attributes(G, partition, 'community')\n",
    "\n",
    "# Count the number of communities detected\n",
    "# num_communities = len(set(partition.values()))\n",
    "# print(f\"Number of communities detected: {num_communities}\")\n",
    "\n",
    "# Step 11: Display Node Attributes Example\n",
    "for node in list(G.nodes())[:5]:\n",
    "    print(f\"Node: {node}, Attributes: {G.nodes[node]}\")\n"
   ]
  }
 ],
 "metadata": {
  "kernelspec": {
   "display_name": "02805SG",
   "language": "python",
   "name": "python3"
  },
  "language_info": {
   "codemirror_mode": {
    "name": "ipython",
    "version": 3
   },
   "file_extension": ".py",
   "mimetype": "text/x-python",
   "name": "python",
   "nbconvert_exporter": "python",
   "pygments_lexer": "ipython3",
   "version": "3.11.9"
  }
 },
 "nbformat": 4,
 "nbformat_minor": 2
}
